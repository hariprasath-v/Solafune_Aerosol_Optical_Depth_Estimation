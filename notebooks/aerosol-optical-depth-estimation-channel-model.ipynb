{
 "cells": [
  {
   "cell_type": "markdown",
   "id": "f277906f",
   "metadata": {
    "papermill": {
     "duration": 0.007531,
     "end_time": "2024-10-18T09:19:01.475646",
     "exception": false,
     "start_time": "2024-10-18T09:19:01.468115",
     "status": "completed"
    },
    "tags": []
   },
   "source": [
    "### About\n",
    "### Estimate AOD(Aerosol Optical Depth) using Sentinel-2 data, leveraging its spectral bands and spatial resolution to improve accuracy.\n",
    "\n",
    "### This notebook is about estimating Aerosol Optical Depth using each spectral band individually.\n",
    "\n",
    "### The AOD estimation process,\n",
    "- Select band pixel\n",
    "- create embedding\n",
    "- train the xgboost model using the embedding vectors"
   ]
  },
  {
   "cell_type": "markdown",
   "id": "a163521d",
   "metadata": {
    "execution": {
     "iopub.execute_input": "2024-10-18T06:39:53.100500Z",
     "iopub.status.busy": "2024-10-18T06:39:53.100037Z",
     "iopub.status.idle": "2024-10-18T06:39:53.117526Z",
     "shell.execute_reply": "2024-10-18T06:39:53.116670Z",
     "shell.execute_reply.started": "2024-10-18T06:39:53.100456Z"
    },
    "papermill": {
     "duration": 0.006898,
     "end_time": "2024-10-18T09:19:01.489537",
     "exception": false,
     "start_time": "2024-10-18T09:19:01.482639",
     "status": "completed"
    },
    "tags": []
   },
   "source": [
    "### Import necessary packages and libraries"
   ]
  },
  {
   "cell_type": "code",
   "execution_count": 1,
   "id": "112d55b8",
   "metadata": {
    "execution": {
     "iopub.execute_input": "2024-10-18T09:19:01.505123Z",
     "iopub.status.busy": "2024-10-18T09:19:01.504441Z",
     "iopub.status.idle": "2024-10-18T09:19:15.741145Z",
     "shell.execute_reply": "2024-10-18T09:19:15.739963Z"
    },
    "papermill": {
     "duration": 14.247091,
     "end_time": "2024-10-18T09:19:15.743497",
     "exception": false,
     "start_time": "2024-10-18T09:19:01.496406",
     "status": "completed"
    },
    "tags": []
   },
   "outputs": [],
   "source": [
    "!pip install imagecodecs -qq"
   ]
  },
  {
   "cell_type": "code",
   "execution_count": 2,
   "id": "e3605275",
   "metadata": {
    "_cell_guid": "b1076dfc-b9ad-4769-8c92-a6c4dae69d19",
    "_uuid": "8f2839f25d086af736a60e9eeb907d3b93b6e0e5",
    "execution": {
     "iopub.execute_input": "2024-10-18T09:19:15.760880Z",
     "iopub.status.busy": "2024-10-18T09:19:15.760538Z",
     "iopub.status.idle": "2024-10-18T09:19:25.196927Z",
     "shell.execute_reply": "2024-10-18T09:19:25.195938Z"
    },
    "papermill": {
     "duration": 9.447341,
     "end_time": "2024-10-18T09:19:25.199292",
     "exception": false,
     "start_time": "2024-10-18T09:19:15.751951",
     "status": "completed"
    },
    "tags": []
   },
   "outputs": [],
   "source": [
    "import pandas as pd #dataframe manipulation\n",
    "import numpy as np  #for numerical process\n",
    "import seaborn as sns #for visualization\n",
    "from matplotlib import pyplot as plt #for visualization\n",
    "from PIL import Image, ImageDraw, ImageEnhance,ImageStat #for read the image\n",
    "import skimage.color \n",
    "import skimage.io as skio\n",
    "from skimage.transform import resize\n",
    "import skimage.util\n",
    "from skimage.measure import shannon_entropy, blur_effect\n",
    "import imagehash #for calculation hash value of image\n",
    "import cv2 #for read the image\n",
    "import re\n",
    "import os\n",
    "import itertools\n",
    "import os\n",
    "#import distance\n",
    "import time\n",
    "%matplotlib inline\n",
    "import warnings\n",
    "warnings.filterwarnings(\"ignore\")\n",
    "from tqdm import tqdm_notebook,tqdm\n",
    "from IPython.display import display, HTML\n",
    "import tifffile\n",
    "import shutil\n",
    "from tqdm import tqdm\n",
    "import json\n",
    "import random\n",
    "\n",
    "from sklearn.model_selection import train_test_split,KFold\n",
    "import logging\n",
    "from IPython.display import clear_output\n",
    "from shapely.geometry import Polygon\n",
    "\n",
    "\n",
    "import xgboost as xgb\n",
    "import torch\n",
    "import timm\n",
    "from torchvision import transforms\n",
    "import tifffile"
   ]
  },
  {
   "cell_type": "markdown",
   "id": "39d403e2",
   "metadata": {
    "papermill": {
     "duration": 0.006777,
     "end_time": "2024-10-18T09:19:25.213265",
     "exception": false,
     "start_time": "2024-10-18T09:19:25.206488",
     "status": "completed"
    },
    "tags": []
   },
   "source": [
    "### Import data"
   ]
  },
  {
   "cell_type": "code",
   "execution_count": 3,
   "id": "1c9d3846",
   "metadata": {
    "execution": {
     "iopub.execute_input": "2024-10-18T09:19:25.228327Z",
     "iopub.status.busy": "2024-10-18T09:19:25.228009Z",
     "iopub.status.idle": "2024-10-18T09:19:25.257753Z",
     "shell.execute_reply": "2024-10-18T09:19:25.256864Z"
    },
    "papermill": {
     "duration": 0.039602,
     "end_time": "2024-10-18T09:19:25.259762",
     "exception": false,
     "start_time": "2024-10-18T09:19:25.220160",
     "status": "completed"
    },
    "tags": []
   },
   "outputs": [],
   "source": [
    "train = pd.read_csv(\"/kaggle/input/solafune-aerosol-optical-depth-estimation/train_answer.csv\")\n",
    "\n",
    "train = train.rename(columns = {'train_1.tif':'filename'})\n",
    "train = train.rename(columns = {'0.04161685225788304':'label'})\n",
    "test = pd.DataFrame({'filename':[f\"test_{i}.tif\" for i in range(1,1490)]})\n",
    "\n",
    "\n",
    "train_path = \"/kaggle/input/solafune-aerosol-optical-depth-estimation/train_images/train_images/\"\n",
    "test_path = \"/kaggle/input/solafune-aerosol-optical-depth-estimation/test_images/test_images/\""
   ]
  },
  {
   "cell_type": "code",
   "execution_count": 4,
   "id": "115bc5bb",
   "metadata": {
    "execution": {
     "iopub.execute_input": "2024-10-18T09:19:25.274584Z",
     "iopub.status.busy": "2024-10-18T09:19:25.274306Z",
     "iopub.status.idle": "2024-10-18T09:19:25.282081Z",
     "shell.execute_reply": "2024-10-18T09:19:25.281243Z"
    },
    "papermill": {
     "duration": 0.017385,
     "end_time": "2024-10-18T09:19:25.284102",
     "exception": false,
     "start_time": "2024-10-18T09:19:25.266717",
     "status": "completed"
    },
    "tags": []
   },
   "outputs": [
    {
     "data": {
      "text/plain": [
       "{'B1_Aerosols': 0,\n",
       " 'B2_Blue': 1,\n",
       " 'B3_Green': 2,\n",
       " 'B4_Red': 3,\n",
       " 'B5_Red_Edge_1': 4,\n",
       " 'B6_Red_Edge_2': 5,\n",
       " 'B7_Red_Edge_3': 6,\n",
       " 'B8_NIR': 7,\n",
       " 'B8A_Red_Edge_4': 8,\n",
       " 'B9_Water_vapor': 9,\n",
       " 'SWIR_Cirrus': 10,\n",
       " 'B11_SWIR_1': 11,\n",
       " 'B12_SWIR_2': 12}"
      ]
     },
     "execution_count": 4,
     "metadata": {},
     "output_type": "execute_result"
    }
   ],
   "source": [
    "{'B1_Aerosols':0,'B2_Blue':1,'B3_Green':2,'B4_Red':3,\n",
    "'B5_Red_Edge_1':4,'B6_Red_Edge_2':5,'B7_Red_Edge_3':6,\n",
    "'B8_NIR':7,'B8A_Red_Edge_4':8,'B9_Water_vapor':9,'SWIR_Cirrus':10,'B11_SWIR_1':11,\n",
    "'B12_SWIR_2':12}"
   ]
  },
  {
   "cell_type": "markdown",
   "id": "94fb5c4d",
   "metadata": {
    "papermill": {
     "duration": 0.006788,
     "end_time": "2024-10-18T09:19:25.297992",
     "exception": false,
     "start_time": "2024-10-18T09:19:25.291204",
     "status": "completed"
    },
    "tags": []
   },
   "source": [
    "### Split data"
   ]
  },
  {
   "cell_type": "code",
   "execution_count": 5,
   "id": "a7e7505a",
   "metadata": {
    "execution": {
     "iopub.execute_input": "2024-10-18T09:19:25.313025Z",
     "iopub.status.busy": "2024-10-18T09:19:25.312712Z",
     "iopub.status.idle": "2024-10-18T09:19:25.321385Z",
     "shell.execute_reply": "2024-10-18T09:19:25.320665Z"
    },
    "papermill": {
     "duration": 0.018244,
     "end_time": "2024-10-18T09:19:25.323197",
     "exception": false,
     "start_time": "2024-10-18T09:19:25.304953",
     "status": "completed"
    },
    "tags": []
   },
   "outputs": [],
   "source": [
    "X_train, X_test = train_test_split(train, test_size=0.2,random_state=42)                                                                "
   ]
  },
  {
   "cell_type": "markdown",
   "id": "8f96e86c",
   "metadata": {
    "papermill": {
     "duration": 0.006859,
     "end_time": "2024-10-18T09:19:25.337000",
     "exception": false,
     "start_time": "2024-10-18T09:19:25.330141",
     "status": "completed"
    },
    "tags": []
   },
   "source": [
    "### Embedding model"
   ]
  },
  {
   "cell_type": "code",
   "execution_count": 6,
   "id": "af5f4b80",
   "metadata": {
    "execution": {
     "iopub.execute_input": "2024-10-18T09:19:25.352287Z",
     "iopub.status.busy": "2024-10-18T09:19:25.352020Z",
     "iopub.status.idle": "2024-10-18T09:19:26.124742Z",
     "shell.execute_reply": "2024-10-18T09:19:26.123963Z"
    },
    "papermill": {
     "duration": 0.782681,
     "end_time": "2024-10-18T09:19:26.126816",
     "exception": false,
     "start_time": "2024-10-18T09:19:25.344135",
     "status": "completed"
    },
    "tags": []
   },
   "outputs": [
    {
     "data": {
      "application/vnd.jupyter.widget-view+json": {
       "model_id": "00e1b8ded7674b82abafb612fdf1e6e2",
       "version_major": 2,
       "version_minor": 0
      },
      "text/plain": [
       "model.safetensors:   0%|          | 0.00/21.4M [00:00<?, ?B/s]"
      ]
     },
     "metadata": {},
     "output_type": "display_data"
    }
   ],
   "source": [
    "model_name = 'efficientnet_b0.ra_in1k'\n",
    "model = timm.create_model(model_name, pretrained=True, num_classes=0,in_chans=1)"
   ]
  },
  {
   "cell_type": "markdown",
   "id": "5d8890c5",
   "metadata": {
    "papermill": {
     "duration": 0.007132,
     "end_time": "2024-10-18T09:19:26.141599",
     "exception": false,
     "start_time": "2024-10-18T09:19:26.134467",
     "status": "completed"
    },
    "tags": []
   },
   "source": [
    "### Convert image to tensor"
   ]
  },
  {
   "cell_type": "code",
   "execution_count": 7,
   "id": "9b94fb8d",
   "metadata": {
    "execution": {
     "iopub.execute_input": "2024-10-18T09:19:26.157536Z",
     "iopub.status.busy": "2024-10-18T09:19:26.157223Z",
     "iopub.status.idle": "2024-10-18T09:19:26.161949Z",
     "shell.execute_reply": "2024-10-18T09:19:26.161168Z"
    },
    "papermill": {
     "duration": 0.014878,
     "end_time": "2024-10-18T09:19:26.163861",
     "exception": false,
     "start_time": "2024-10-18T09:19:26.148983",
     "status": "completed"
    },
    "tags": []
   },
   "outputs": [],
   "source": [
    "# Define the transform pipeline: resize, normalize, and convert to tensor\n",
    "transform = transforms.Compose([\n",
    "    transforms.Resize((512, 512)),  # Resize the image to 224x224\n",
    "    transforms.ToTensor(),  # Convert the image to a PyTorch tensor\n",
    "    #transforms.Normalize(mean=[0.485, 0.456, 0.406], std=[0.229, 0.224, 0.225]),  # Normalize\n",
    "])\n"
   ]
  },
  {
   "cell_type": "markdown",
   "id": "6a42495e",
   "metadata": {
    "papermill": {
     "duration": 0.007075,
     "end_time": "2024-10-18T09:19:26.178165",
     "exception": false,
     "start_time": "2024-10-18T09:19:26.171090",
     "status": "completed"
    },
    "tags": []
   },
   "source": [
    "### Function to get embedding"
   ]
  },
  {
   "cell_type": "code",
   "execution_count": 8,
   "id": "378ba029",
   "metadata": {
    "execution": {
     "iopub.execute_input": "2024-10-18T09:19:26.193918Z",
     "iopub.status.busy": "2024-10-18T09:19:26.193587Z",
     "iopub.status.idle": "2024-10-18T09:19:26.200308Z",
     "shell.execute_reply": "2024-10-18T09:19:26.199489Z"
    },
    "papermill": {
     "duration": 0.016977,
     "end_time": "2024-10-18T09:19:26.202306",
     "exception": false,
     "start_time": "2024-10-18T09:19:26.185329",
     "status": "completed"
    },
    "tags": []
   },
   "outputs": [],
   "source": [
    "def get_image_embedding(df,path,band):\n",
    "    embed=[]\n",
    "    for img in tqdm(df['filename']):\n",
    "        #im=rasterio.open(f\"{path}{img}\").read().astype(np.float64)\n",
    "        \n",
    "        image = open_image(f\"{path}{img}\",band)\n",
    "        \n",
    "        # Apply the transformations\n",
    "        image = transform(image)\n",
    "        \n",
    "        # Add a batch dimension (N, C, H, W) for the model input\n",
    "        image = image.unsqueeze(0)\n",
    "        \n",
    "         # Ensure the model is in evaluation mode\n",
    "        model.eval()\n",
    "\n",
    "        # Disable gradient calculation for inference\n",
    "        with torch.no_grad():\n",
    "            embedding = model(image)\n",
    "        embed.append(embedding.detach().cpu().numpy())\n",
    "        del image,embedding\n",
    "    return embed"
   ]
  },
  {
   "cell_type": "markdown",
   "id": "acac9b7e",
   "metadata": {
    "papermill": {
     "duration": 0.006992,
     "end_time": "2024-10-18T09:19:26.216513",
     "exception": false,
     "start_time": "2024-10-18T09:19:26.209521",
     "status": "completed"
    },
    "tags": []
   },
   "source": [
    "### Evaluation metric"
   ]
  },
  {
   "cell_type": "code",
   "execution_count": 9,
   "id": "29333be9",
   "metadata": {
    "execution": {
     "iopub.execute_input": "2024-10-18T09:19:26.232395Z",
     "iopub.status.busy": "2024-10-18T09:19:26.231820Z",
     "iopub.status.idle": "2024-10-18T09:19:26.236680Z",
     "shell.execute_reply": "2024-10-18T09:19:26.235864Z"
    },
    "papermill": {
     "duration": 0.014868,
     "end_time": "2024-10-18T09:19:26.238585",
     "exception": false,
     "start_time": "2024-10-18T09:19:26.223717",
     "status": "completed"
    },
    "tags": []
   },
   "outputs": [],
   "source": [
    "from scipy.stats import pearsonr\n",
    "\n",
    "def pearsonr_eval(preds, dtrain):\n",
    "    labels = dtrain.get_label()\n",
    "    return 'pearsonr', pearsonr(preds, labels)[0]\n"
   ]
  },
  {
   "cell_type": "markdown",
   "id": "8b0e041c",
   "metadata": {
    "papermill": {
     "duration": 0.008892,
     "end_time": "2024-10-18T09:19:26.254753",
     "exception": false,
     "start_time": "2024-10-18T09:19:26.245861",
     "status": "completed"
    },
    "tags": []
   },
   "source": [
    "### Function to read image"
   ]
  },
  {
   "cell_type": "code",
   "execution_count": 10,
   "id": "fe2e7dd7",
   "metadata": {
    "execution": {
     "iopub.execute_input": "2024-10-18T09:19:26.274616Z",
     "iopub.status.busy": "2024-10-18T09:19:26.273936Z",
     "iopub.status.idle": "2024-10-18T09:19:26.279198Z",
     "shell.execute_reply": "2024-10-18T09:19:26.278345Z"
    },
    "papermill": {
     "duration": 0.015634,
     "end_time": "2024-10-18T09:19:26.281322",
     "exception": false,
     "start_time": "2024-10-18T09:19:26.265688",
     "status": "completed"
    },
    "tags": []
   },
   "outputs": [],
   "source": [
    "def open_image(path,band):\n",
    "    img=tifffile.imread(path)\n",
    "   # new_image=np.stack((img[:,:,7],\n",
    "      #                 img[:,:,10],img[:,:,3]),axis=-1)\n",
    "    new_image=img[:,:,band]\n",
    "                        \n",
    "    new_image = Image.fromarray((new_image*255).astype(np.uint8))\n",
    "    \n",
    "    #new_image = new_image.resize((512,512))\n",
    "    \n",
    "    return new_image\n",
    "   "
   ]
  },
  {
   "cell_type": "markdown",
   "id": "e1f749a7",
   "metadata": {
    "papermill": {
     "duration": 0.006987,
     "end_time": "2024-10-18T09:19:26.297172",
     "exception": false,
     "start_time": "2024-10-18T09:19:26.290185",
     "status": "completed"
    },
    "tags": []
   },
   "source": [
    "### AOD model"
   ]
  },
  {
   "cell_type": "code",
   "execution_count": 11,
   "id": "e2c7bd19",
   "metadata": {
    "execution": {
     "iopub.execute_input": "2024-10-18T09:19:26.313004Z",
     "iopub.status.busy": "2024-10-18T09:19:26.312697Z",
     "iopub.status.idle": "2024-10-18T09:19:26.328118Z",
     "shell.execute_reply": "2024-10-18T09:19:26.327274Z"
    },
    "papermill": {
     "duration": 0.025766,
     "end_time": "2024-10-18T09:19:26.330062",
     "exception": false,
     "start_time": "2024-10-18T09:19:26.304296",
     "status": "completed"
    },
    "tags": []
   },
   "outputs": [],
   "source": [
    "class AodModel():\n",
    "    def __init__(self,train_df, val_df, train_label, val_label, test_df, train_path, test_path):\n",
    "        self.train_df = train_df\n",
    "        self.val_df = val_df\n",
    "        self.train_label = train_label\n",
    "        self.val_label = val_label\n",
    "        self.test_df =  test_df\n",
    "        self.train_path = train_path\n",
    "        self.test_path = test_path\n",
    "        self.score = dict()\n",
    "        self.val_pred_results = dict()\n",
    "        self.test_pred_results = dict()\n",
    "        self.final_sub = dict()\n",
    "    def train_model(self):\n",
    "        for i in range(13):\n",
    "            print(f\"Prepaing training data for band:{i+1}\\n\")\n",
    "            train_embeddings=get_image_embedding(self.train_df ,self.train_path ,i)\n",
    "            print(f\"training data preparation for band:{i+1} is done\\n\")\n",
    "        \n",
    "            print(f\"Preparing validation data for band:{i+1}\\n\")\n",
    "            validation_embeddings=get_image_embedding(self.val_df ,self.train_path ,i)\n",
    "            print(f\"Validation data preparation for band:{i+1} is done\\n\")\n",
    "            \n",
    "            print(f\"Training model for band {i+1}\\n\")\n",
    "            #xgboost model\n",
    "            reg=xgb.XGBRegressor(random_state=42)\n",
    "            reg.fit(np.concatenate(train_embeddings), self.train_label,\n",
    "                eval_set=[(np.concatenate(validation_embeddings),self.val_label)],\n",
    "                eval_metric=pearsonr_eval,\n",
    "                early_stopping_rounds=200, verbose=False)\n",
    "            val_pred = reg.predict(np.concatenate(validation_embeddings))\n",
    "            score_result = pearsonr(self.val_label,val_pred,)[0].round(2)*100 \n",
    "            print(f\"Band {i+1} Validation  pearsonr:{score_result}\\n\")\n",
    "            self.val_pred_results[f\"band_{i+1}\"] = val_pred\n",
    "            self.score[f\"band_{i+1}\"] = score_result\n",
    "            print(f\"Testing data preparation for band:{i+1}\\n\")\n",
    "            test_embedding = get_image_embedding(self.test_df, self.test_path ,i)\n",
    "            print(f\"Testing data preparation for band:{i+1} is done\\n\")\n",
    "            print(f\"Predict test data for band_{i+1}\\n\")\n",
    "            test_pred = reg.predict(np.concatenate(test_embedding))\n",
    "            self.test_pred_results[f\"band_{i+1}\"] = test_pred\n",
    "            print(f\"Test Prediction is done for band_{i+1}\\n\")\n",
    "            print(\"=\"*100)\n",
    "        self.create_test_result_df()\n",
    "\n",
    "    def create_test_result_df(self):\n",
    "        for key, value in self.test_pred_results.items():\n",
    "            self.final_sub[key] = pd.DataFrame({'fielname':self.test_df['filename'],'AOD':value})\n",
    "\n",
    "        os.makedirs(\"/kaggle/working/Channel_wise_prediction\", exist_ok = True)\n",
    "        os.chdir(\"/kaggle/working/Channel_wise_prediction/\")\n",
    "        ref_name = \"efficientnet_b0.ra_in1k_embeddings_xgb_baseline\"\n",
    "        \n",
    "        for key, value in self.final_sub.items():\n",
    "            value.to_csv(f\"{ref_name}_{key}.csv\",index=False)\n",
    "\n",
    "        pd.DataFrame(list(self.score.items()),columns=['Band', 'Validation_score']).to_csv(f\"{ref_name}_validation_results.csv\",index=False)\n",
    "        os.chdir(\"/kaggle/working/\")\n",
    "        shutil.make_archive(f\"{ref_name}_band_1-13\", 'zip', \"/kaggle/working/Channel_wise_prediction/\")\n",
    "        print(\"Final submission files created\")\n",
    "        \n",
    "    \n",
    "        \n",
    "       \n",
    "        "
   ]
  },
  {
   "cell_type": "code",
   "execution_count": 12,
   "id": "a1310134",
   "metadata": {
    "execution": {
     "iopub.execute_input": "2024-10-18T09:19:26.345696Z",
     "iopub.status.busy": "2024-10-18T09:19:26.345058Z",
     "iopub.status.idle": "2024-10-18T09:19:26.349734Z",
     "shell.execute_reply": "2024-10-18T09:19:26.348892Z"
    },
    "papermill": {
     "duration": 0.014551,
     "end_time": "2024-10-18T09:19:26.351693",
     "exception": false,
     "start_time": "2024-10-18T09:19:26.337142",
     "status": "completed"
    },
    "tags": []
   },
   "outputs": [],
   "source": [
    "aod = AodModel(train_df = X_train\n",
    "               ,val_df = X_test\n",
    "               ,train_label = X_train['label']\n",
    "               ,val_label = X_test['label']\n",
    "               ,test_df = test\n",
    "               ,train_path = train_path\n",
    "               ,test_path = test_path)"
   ]
  },
  {
   "cell_type": "markdown",
   "id": "884b511d",
   "metadata": {
    "papermill": {
     "duration": 0.00701,
     "end_time": "2024-10-18T09:19:26.366043",
     "exception": false,
     "start_time": "2024-10-18T09:19:26.359033",
     "status": "completed"
    },
    "tags": []
   },
   "source": [
    "### Train the model"
   ]
  },
  {
   "cell_type": "code",
   "execution_count": 13,
   "id": "8deaf518",
   "metadata": {
    "execution": {
     "iopub.execute_input": "2024-10-18T09:19:26.382901Z",
     "iopub.status.busy": "2024-10-18T09:19:26.382137Z",
     "iopub.status.idle": "2024-10-18T12:23:52.746776Z",
     "shell.execute_reply": "2024-10-18T12:23:52.745923Z"
    },
    "papermill": {
     "duration": 11066.374614,
     "end_time": "2024-10-18T12:23:52.748839",
     "exception": false,
     "start_time": "2024-10-18T09:19:26.374225",
     "status": "completed"
    },
    "tags": []
   },
   "outputs": [
    {
     "name": "stdout",
     "output_type": "stream",
     "text": [
      "Prepaing training data for band:1\n",
      "\n"
     ]
    },
    {
     "name": "stderr",
     "output_type": "stream",
     "text": [
      "100%|██████████| 3571/3571 [09:28<00:00,  6.28it/s]\n"
     ]
    },
    {
     "name": "stdout",
     "output_type": "stream",
     "text": [
      "training data preparation for band:1 is done\n",
      "\n",
      "Preparing validation data for band:1\n",
      "\n"
     ]
    },
    {
     "name": "stderr",
     "output_type": "stream",
     "text": [
      "100%|██████████| 893/893 [02:32<00:00,  5.87it/s]\n"
     ]
    },
    {
     "name": "stdout",
     "output_type": "stream",
     "text": [
      "Validation data preparation for band:1 is done\n",
      "\n",
      "Training model for band 1\n",
      "\n",
      "Band 1 Validation  pearsonr:69.0\n",
      "\n",
      "Testing data preparation for band:1\n",
      "\n"
     ]
    },
    {
     "name": "stderr",
     "output_type": "stream",
     "text": [
      "100%|██████████| 1489/1489 [03:22<00:00,  7.37it/s]\n"
     ]
    },
    {
     "name": "stdout",
     "output_type": "stream",
     "text": [
      "Testing data preparation for band:1 is done\n",
      "\n",
      "Predict test data for band_1\n",
      "\n",
      "Test Prediction is done for band_1\n",
      "\n",
      "====================================================================================================\n",
      "Prepaing training data for band:2\n",
      "\n"
     ]
    },
    {
     "name": "stderr",
     "output_type": "stream",
     "text": [
      "100%|██████████| 3571/3571 [08:22<00:00,  7.11it/s]\n"
     ]
    },
    {
     "name": "stdout",
     "output_type": "stream",
     "text": [
      "training data preparation for band:2 is done\n",
      "\n",
      "Preparing validation data for band:2\n",
      "\n"
     ]
    },
    {
     "name": "stderr",
     "output_type": "stream",
     "text": [
      "100%|██████████| 893/893 [02:07<00:00,  7.03it/s]\n"
     ]
    },
    {
     "name": "stdout",
     "output_type": "stream",
     "text": [
      "Validation data preparation for band:2 is done\n",
      "\n",
      "Training model for band 2\n",
      "\n",
      "Band 2 Validation  pearsonr:71.0\n",
      "\n",
      "Testing data preparation for band:2\n",
      "\n"
     ]
    },
    {
     "name": "stderr",
     "output_type": "stream",
     "text": [
      "100%|██████████| 1489/1489 [03:28<00:00,  7.15it/s]\n"
     ]
    },
    {
     "name": "stdout",
     "output_type": "stream",
     "text": [
      "Testing data preparation for band:2 is done\n",
      "\n",
      "Predict test data for band_2\n",
      "\n",
      "Test Prediction is done for band_2\n",
      "\n",
      "====================================================================================================\n",
      "Prepaing training data for band:3\n",
      "\n"
     ]
    },
    {
     "name": "stderr",
     "output_type": "stream",
     "text": [
      "100%|██████████| 3571/3571 [08:24<00:00,  7.07it/s]\n"
     ]
    },
    {
     "name": "stdout",
     "output_type": "stream",
     "text": [
      "training data preparation for band:3 is done\n",
      "\n",
      "Preparing validation data for band:3\n",
      "\n"
     ]
    },
    {
     "name": "stderr",
     "output_type": "stream",
     "text": [
      "100%|██████████| 893/893 [02:05<00:00,  7.11it/s]\n"
     ]
    },
    {
     "name": "stdout",
     "output_type": "stream",
     "text": [
      "Validation data preparation for band:3 is done\n",
      "\n",
      "Training model for band 3\n",
      "\n",
      "Band 3 Validation  pearsonr:66.0\n",
      "\n",
      "Testing data preparation for band:3\n",
      "\n"
     ]
    },
    {
     "name": "stderr",
     "output_type": "stream",
     "text": [
      "100%|██████████| 1489/1489 [03:30<00:00,  7.06it/s]\n"
     ]
    },
    {
     "name": "stdout",
     "output_type": "stream",
     "text": [
      "Testing data preparation for band:3 is done\n",
      "\n",
      "Predict test data for band_3\n",
      "\n",
      "Test Prediction is done for band_3\n",
      "\n",
      "====================================================================================================\n",
      "Prepaing training data for band:4\n",
      "\n"
     ]
    },
    {
     "name": "stderr",
     "output_type": "stream",
     "text": [
      "100%|██████████| 3571/3571 [08:24<00:00,  7.07it/s]\n"
     ]
    },
    {
     "name": "stdout",
     "output_type": "stream",
     "text": [
      "training data preparation for band:4 is done\n",
      "\n",
      "Preparing validation data for band:4\n",
      "\n"
     ]
    },
    {
     "name": "stderr",
     "output_type": "stream",
     "text": [
      "100%|██████████| 893/893 [02:08<00:00,  6.93it/s]\n"
     ]
    },
    {
     "name": "stdout",
     "output_type": "stream",
     "text": [
      "Validation data preparation for band:4 is done\n",
      "\n",
      "Training model for band 4\n",
      "\n",
      "Band 4 Validation  pearsonr:63.0\n",
      "\n",
      "Testing data preparation for band:4\n",
      "\n"
     ]
    },
    {
     "name": "stderr",
     "output_type": "stream",
     "text": [
      "100%|██████████| 1489/1489 [03:35<00:00,  6.92it/s]\n"
     ]
    },
    {
     "name": "stdout",
     "output_type": "stream",
     "text": [
      "Testing data preparation for band:4 is done\n",
      "\n",
      "Predict test data for band_4\n",
      "\n",
      "Test Prediction is done for band_4\n",
      "\n",
      "====================================================================================================\n",
      "Prepaing training data for band:5\n",
      "\n"
     ]
    },
    {
     "name": "stderr",
     "output_type": "stream",
     "text": [
      "100%|██████████| 3571/3571 [08:51<00:00,  6.71it/s]\n"
     ]
    },
    {
     "name": "stdout",
     "output_type": "stream",
     "text": [
      "training data preparation for band:5 is done\n",
      "\n",
      "Preparing validation data for band:5\n",
      "\n"
     ]
    },
    {
     "name": "stderr",
     "output_type": "stream",
     "text": [
      "100%|██████████| 893/893 [02:11<00:00,  6.79it/s]\n"
     ]
    },
    {
     "name": "stdout",
     "output_type": "stream",
     "text": [
      "Validation data preparation for band:5 is done\n",
      "\n",
      "Training model for band 5\n",
      "\n",
      "Band 5 Validation  pearsonr:67.0\n",
      "\n",
      "Testing data preparation for band:5\n",
      "\n"
     ]
    },
    {
     "name": "stderr",
     "output_type": "stream",
     "text": [
      "100%|██████████| 1489/1489 [03:39<00:00,  6.77it/s]\n"
     ]
    },
    {
     "name": "stdout",
     "output_type": "stream",
     "text": [
      "Testing data preparation for band:5 is done\n",
      "\n",
      "Predict test data for band_5\n",
      "\n",
      "Test Prediction is done for band_5\n",
      "\n",
      "====================================================================================================\n",
      "Prepaing training data for band:6\n",
      "\n"
     ]
    },
    {
     "name": "stderr",
     "output_type": "stream",
     "text": [
      "100%|██████████| 3571/3571 [08:40<00:00,  6.86it/s]\n"
     ]
    },
    {
     "name": "stdout",
     "output_type": "stream",
     "text": [
      "training data preparation for band:6 is done\n",
      "\n",
      "Preparing validation data for band:6\n",
      "\n"
     ]
    },
    {
     "name": "stderr",
     "output_type": "stream",
     "text": [
      "100%|██████████| 893/893 [02:02<00:00,  7.27it/s]\n"
     ]
    },
    {
     "name": "stdout",
     "output_type": "stream",
     "text": [
      "Validation data preparation for band:6 is done\n",
      "\n",
      "Training model for band 6\n",
      "\n",
      "Band 6 Validation  pearsonr:75.0\n",
      "\n",
      "Testing data preparation for band:6\n",
      "\n"
     ]
    },
    {
     "name": "stderr",
     "output_type": "stream",
     "text": [
      "100%|██████████| 1489/1489 [03:26<00:00,  7.23it/s]\n"
     ]
    },
    {
     "name": "stdout",
     "output_type": "stream",
     "text": [
      "Testing data preparation for band:6 is done\n",
      "\n",
      "Predict test data for band_6\n",
      "\n",
      "Test Prediction is done for band_6\n",
      "\n",
      "====================================================================================================\n",
      "Prepaing training data for band:7\n",
      "\n"
     ]
    },
    {
     "name": "stderr",
     "output_type": "stream",
     "text": [
      "100%|██████████| 3571/3571 [08:02<00:00,  7.40it/s]\n"
     ]
    },
    {
     "name": "stdout",
     "output_type": "stream",
     "text": [
      "training data preparation for band:7 is done\n",
      "\n",
      "Preparing validation data for band:7\n",
      "\n"
     ]
    },
    {
     "name": "stderr",
     "output_type": "stream",
     "text": [
      "100%|██████████| 893/893 [01:59<00:00,  7.44it/s]\n"
     ]
    },
    {
     "name": "stdout",
     "output_type": "stream",
     "text": [
      "Validation data preparation for band:7 is done\n",
      "\n",
      "Training model for band 7\n",
      "\n",
      "Band 7 Validation  pearsonr:77.0\n",
      "\n",
      "Testing data preparation for band:7\n",
      "\n"
     ]
    },
    {
     "name": "stderr",
     "output_type": "stream",
     "text": [
      "100%|██████████| 1489/1489 [03:15<00:00,  7.62it/s]\n"
     ]
    },
    {
     "name": "stdout",
     "output_type": "stream",
     "text": [
      "Testing data preparation for band:7 is done\n",
      "\n",
      "Predict test data for band_7\n",
      "\n",
      "Test Prediction is done for band_7\n",
      "\n",
      "====================================================================================================\n",
      "Prepaing training data for band:8\n",
      "\n"
     ]
    },
    {
     "name": "stderr",
     "output_type": "stream",
     "text": [
      "100%|██████████| 3571/3571 [07:50<00:00,  7.59it/s]\n"
     ]
    },
    {
     "name": "stdout",
     "output_type": "stream",
     "text": [
      "training data preparation for band:8 is done\n",
      "\n",
      "Preparing validation data for band:8\n",
      "\n"
     ]
    },
    {
     "name": "stderr",
     "output_type": "stream",
     "text": [
      "100%|██████████| 893/893 [01:57<00:00,  7.57it/s]\n"
     ]
    },
    {
     "name": "stdout",
     "output_type": "stream",
     "text": [
      "Validation data preparation for band:8 is done\n",
      "\n",
      "Training model for band 8\n",
      "\n",
      "Band 8 Validation  pearsonr:73.0\n",
      "\n",
      "Testing data preparation for band:8\n",
      "\n"
     ]
    },
    {
     "name": "stderr",
     "output_type": "stream",
     "text": [
      "100%|██████████| 1489/1489 [03:23<00:00,  7.33it/s]\n"
     ]
    },
    {
     "name": "stdout",
     "output_type": "stream",
     "text": [
      "Testing data preparation for band:8 is done\n",
      "\n",
      "Predict test data for band_8\n",
      "\n",
      "Test Prediction is done for band_8\n",
      "\n",
      "====================================================================================================\n",
      "Prepaing training data for band:9\n",
      "\n"
     ]
    },
    {
     "name": "stderr",
     "output_type": "stream",
     "text": [
      "100%|██████████| 3571/3571 [08:07<00:00,  7.33it/s]\n"
     ]
    },
    {
     "name": "stdout",
     "output_type": "stream",
     "text": [
      "training data preparation for band:9 is done\n",
      "\n",
      "Preparing validation data for band:9\n",
      "\n"
     ]
    },
    {
     "name": "stderr",
     "output_type": "stream",
     "text": [
      "100%|██████████| 893/893 [02:00<00:00,  7.39it/s]\n"
     ]
    },
    {
     "name": "stdout",
     "output_type": "stream",
     "text": [
      "Validation data preparation for band:9 is done\n",
      "\n",
      "Training model for band 9\n",
      "\n",
      "Band 9 Validation  pearsonr:69.0\n",
      "\n",
      "Testing data preparation for band:9\n",
      "\n"
     ]
    },
    {
     "name": "stderr",
     "output_type": "stream",
     "text": [
      "100%|██████████| 1489/1489 [03:28<00:00,  7.15it/s]\n"
     ]
    },
    {
     "name": "stdout",
     "output_type": "stream",
     "text": [
      "Testing data preparation for band:9 is done\n",
      "\n",
      "Predict test data for band_9\n",
      "\n",
      "Test Prediction is done for band_9\n",
      "\n",
      "====================================================================================================\n",
      "Prepaing training data for band:10\n",
      "\n"
     ]
    },
    {
     "name": "stderr",
     "output_type": "stream",
     "text": [
      "100%|██████████| 3571/3571 [08:08<00:00,  7.31it/s]\n"
     ]
    },
    {
     "name": "stdout",
     "output_type": "stream",
     "text": [
      "training data preparation for band:10 is done\n",
      "\n",
      "Preparing validation data for band:10\n",
      "\n"
     ]
    },
    {
     "name": "stderr",
     "output_type": "stream",
     "text": [
      "100%|██████████| 893/893 [01:59<00:00,  7.48it/s]\n"
     ]
    },
    {
     "name": "stdout",
     "output_type": "stream",
     "text": [
      "Validation data preparation for band:10 is done\n",
      "\n",
      "Training model for band 10\n",
      "\n",
      "Band 10 Validation  pearsonr:52.0\n",
      "\n",
      "Testing data preparation for band:10\n",
      "\n"
     ]
    },
    {
     "name": "stderr",
     "output_type": "stream",
     "text": [
      "100%|██████████| 1489/1489 [03:22<00:00,  7.36it/s]\n"
     ]
    },
    {
     "name": "stdout",
     "output_type": "stream",
     "text": [
      "Testing data preparation for band:10 is done\n",
      "\n",
      "Predict test data for band_10\n",
      "\n",
      "Test Prediction is done for band_10\n",
      "\n",
      "====================================================================================================\n",
      "Prepaing training data for band:11\n",
      "\n"
     ]
    },
    {
     "name": "stderr",
     "output_type": "stream",
     "text": [
      "100%|██████████| 3571/3571 [07:52<00:00,  7.56it/s]\n"
     ]
    },
    {
     "name": "stdout",
     "output_type": "stream",
     "text": [
      "training data preparation for band:11 is done\n",
      "\n",
      "Preparing validation data for band:11\n",
      "\n"
     ]
    },
    {
     "name": "stderr",
     "output_type": "stream",
     "text": [
      "100%|██████████| 893/893 [01:58<00:00,  7.53it/s]\n"
     ]
    },
    {
     "name": "stdout",
     "output_type": "stream",
     "text": [
      "Validation data preparation for band:11 is done\n",
      "\n",
      "Training model for band 11\n",
      "\n",
      "Band 11 Validation  pearsonr:7.000000000000001\n",
      "\n",
      "Testing data preparation for band:11\n",
      "\n"
     ]
    },
    {
     "name": "stderr",
     "output_type": "stream",
     "text": [
      "100%|██████████| 1489/1489 [03:18<00:00,  7.49it/s]\n"
     ]
    },
    {
     "name": "stdout",
     "output_type": "stream",
     "text": [
      "Testing data preparation for band:11 is done\n",
      "\n",
      "Predict test data for band_11\n",
      "\n",
      "Test Prediction is done for band_11\n",
      "\n",
      "====================================================================================================\n",
      "Prepaing training data for band:12\n",
      "\n"
     ]
    },
    {
     "name": "stderr",
     "output_type": "stream",
     "text": [
      "100%|██████████| 3571/3571 [08:03<00:00,  7.39it/s]\n"
     ]
    },
    {
     "name": "stdout",
     "output_type": "stream",
     "text": [
      "training data preparation for band:12 is done\n",
      "\n",
      "Preparing validation data for band:12\n",
      "\n"
     ]
    },
    {
     "name": "stderr",
     "output_type": "stream",
     "text": [
      "100%|██████████| 893/893 [02:00<00:00,  7.39it/s]\n"
     ]
    },
    {
     "name": "stdout",
     "output_type": "stream",
     "text": [
      "Validation data preparation for band:12 is done\n",
      "\n",
      "Training model for band 12\n",
      "\n",
      "Band 12 Validation  pearsonr:56.00000000000001\n",
      "\n",
      "Testing data preparation for band:12\n",
      "\n"
     ]
    },
    {
     "name": "stderr",
     "output_type": "stream",
     "text": [
      "100%|██████████| 1489/1489 [03:20<00:00,  7.41it/s]\n"
     ]
    },
    {
     "name": "stdout",
     "output_type": "stream",
     "text": [
      "Testing data preparation for band:12 is done\n",
      "\n",
      "Predict test data for band_12\n",
      "\n",
      "Test Prediction is done for band_12\n",
      "\n",
      "====================================================================================================\n",
      "Prepaing training data for band:13\n",
      "\n"
     ]
    },
    {
     "name": "stderr",
     "output_type": "stream",
     "text": [
      "100%|██████████| 3571/3571 [08:05<00:00,  7.36it/s]\n"
     ]
    },
    {
     "name": "stdout",
     "output_type": "stream",
     "text": [
      "training data preparation for band:13 is done\n",
      "\n",
      "Preparing validation data for band:13\n",
      "\n"
     ]
    },
    {
     "name": "stderr",
     "output_type": "stream",
     "text": [
      "100%|██████████| 893/893 [02:00<00:00,  7.43it/s]\n"
     ]
    },
    {
     "name": "stdout",
     "output_type": "stream",
     "text": [
      "Validation data preparation for band:13 is done\n",
      "\n",
      "Training model for band 13\n",
      "\n",
      "Band 13 Validation  pearsonr:49.0\n",
      "\n",
      "Testing data preparation for band:13\n",
      "\n"
     ]
    },
    {
     "name": "stderr",
     "output_type": "stream",
     "text": [
      "100%|██████████| 1489/1489 [03:25<00:00,  7.26it/s]\n"
     ]
    },
    {
     "name": "stdout",
     "output_type": "stream",
     "text": [
      "Testing data preparation for band:13 is done\n",
      "\n",
      "Predict test data for band_13\n",
      "\n",
      "Test Prediction is done for band_13\n",
      "\n",
      "====================================================================================================\n",
      "Final submission files created\n"
     ]
    }
   ],
   "source": [
    "aod.train_model()"
   ]
  },
  {
   "cell_type": "markdown",
   "id": "50f3a742",
   "metadata": {
    "papermill": {
     "duration": 6.271817,
     "end_time": "2024-10-18T12:24:05.289294",
     "exception": false,
     "start_time": "2024-10-18T12:23:59.017477",
     "status": "completed"
    },
    "tags": []
   },
   "source": [
    "### Band wise validation score"
   ]
  },
  {
   "cell_type": "code",
   "execution_count": 14,
   "id": "168d7c75",
   "metadata": {
    "execution": {
     "iopub.execute_input": "2024-10-18T12:24:17.962126Z",
     "iopub.status.busy": "2024-10-18T12:24:17.961038Z",
     "iopub.status.idle": "2024-10-18T12:24:17.981189Z",
     "shell.execute_reply": "2024-10-18T12:24:17.980336Z"
    },
    "papermill": {
     "duration": 6.419837,
     "end_time": "2024-10-18T12:24:17.983134",
     "exception": false,
     "start_time": "2024-10-18T12:24:11.563297",
     "status": "completed"
    },
    "tags": []
   },
   "outputs": [
    {
     "data": {
      "text/html": [
       "<div>\n",
       "<style scoped>\n",
       "    .dataframe tbody tr th:only-of-type {\n",
       "        vertical-align: middle;\n",
       "    }\n",
       "\n",
       "    .dataframe tbody tr th {\n",
       "        vertical-align: top;\n",
       "    }\n",
       "\n",
       "    .dataframe thead th {\n",
       "        text-align: right;\n",
       "    }\n",
       "</style>\n",
       "<table border=\"1\" class=\"dataframe\">\n",
       "  <thead>\n",
       "    <tr style=\"text-align: right;\">\n",
       "      <th></th>\n",
       "      <th>Band</th>\n",
       "      <th>Validation_score</th>\n",
       "    </tr>\n",
       "  </thead>\n",
       "  <tbody>\n",
       "    <tr>\n",
       "      <th>6</th>\n",
       "      <td>band_7</td>\n",
       "      <td>77.0</td>\n",
       "    </tr>\n",
       "    <tr>\n",
       "      <th>5</th>\n",
       "      <td>band_6</td>\n",
       "      <td>75.0</td>\n",
       "    </tr>\n",
       "    <tr>\n",
       "      <th>7</th>\n",
       "      <td>band_8</td>\n",
       "      <td>73.0</td>\n",
       "    </tr>\n",
       "    <tr>\n",
       "      <th>1</th>\n",
       "      <td>band_2</td>\n",
       "      <td>71.0</td>\n",
       "    </tr>\n",
       "    <tr>\n",
       "      <th>0</th>\n",
       "      <td>band_1</td>\n",
       "      <td>69.0</td>\n",
       "    </tr>\n",
       "    <tr>\n",
       "      <th>8</th>\n",
       "      <td>band_9</td>\n",
       "      <td>69.0</td>\n",
       "    </tr>\n",
       "    <tr>\n",
       "      <th>4</th>\n",
       "      <td>band_5</td>\n",
       "      <td>67.0</td>\n",
       "    </tr>\n",
       "    <tr>\n",
       "      <th>2</th>\n",
       "      <td>band_3</td>\n",
       "      <td>66.0</td>\n",
       "    </tr>\n",
       "    <tr>\n",
       "      <th>3</th>\n",
       "      <td>band_4</td>\n",
       "      <td>63.0</td>\n",
       "    </tr>\n",
       "    <tr>\n",
       "      <th>11</th>\n",
       "      <td>band_12</td>\n",
       "      <td>56.0</td>\n",
       "    </tr>\n",
       "    <tr>\n",
       "      <th>9</th>\n",
       "      <td>band_10</td>\n",
       "      <td>52.0</td>\n",
       "    </tr>\n",
       "    <tr>\n",
       "      <th>12</th>\n",
       "      <td>band_13</td>\n",
       "      <td>49.0</td>\n",
       "    </tr>\n",
       "    <tr>\n",
       "      <th>10</th>\n",
       "      <td>band_11</td>\n",
       "      <td>7.0</td>\n",
       "    </tr>\n",
       "  </tbody>\n",
       "</table>\n",
       "</div>"
      ],
      "text/plain": [
       "       Band  Validation_score\n",
       "6    band_7              77.0\n",
       "5    band_6              75.0\n",
       "7    band_8              73.0\n",
       "1    band_2              71.0\n",
       "0    band_1              69.0\n",
       "8    band_9              69.0\n",
       "4    band_5              67.0\n",
       "2    band_3              66.0\n",
       "3    band_4              63.0\n",
       "11  band_12              56.0\n",
       "9   band_10              52.0\n",
       "12  band_13              49.0\n",
       "10  band_11               7.0"
      ]
     },
     "execution_count": 14,
     "metadata": {},
     "output_type": "execute_result"
    }
   ],
   "source": [
    " pd.DataFrame(list(aod.score.items()),columns=['Band', 'Validation_score']).sort_values(\"Validation_score\",ascending=False)"
   ]
  },
  {
   "cell_type": "code",
   "execution_count": 15,
   "id": "c23a9aba",
   "metadata": {
    "execution": {
     "iopub.execute_input": "2024-10-18T12:24:30.492308Z",
     "iopub.status.busy": "2024-10-18T12:24:30.491928Z",
     "iopub.status.idle": "2024-10-18T12:24:30.862091Z",
     "shell.execute_reply": "2024-10-18T12:24:30.861139Z"
    },
    "papermill": {
     "duration": 6.648388,
     "end_time": "2024-10-18T12:24:30.863978",
     "exception": false,
     "start_time": "2024-10-18T12:24:24.215590",
     "status": "completed"
    },
    "tags": []
   },
   "outputs": [
    {
     "data": {
      "image/png": "[encoded data removed]",
      "text/plain": [
       "<Figure size 1200x600 with 1 Axes>"
      ]
     },
     "metadata": {},
     "output_type": "display_data"
    }
   ],
   "source": [
    "_=plt.figure(figsize=(12,6))\n",
    "sns.barplot(data = pd.DataFrame(list(aod.score.items()),columns=['Band', 'Validation_score']).sort_values(\"Validation_score\",ascending=False),\n",
    "            x='Band', y='Validation_score');"
   ]
  },
  {
   "cell_type": "markdown",
   "id": "c0ed835b",
   "metadata": {
    "papermill": {
     "duration": 6.252006,
     "end_time": "2024-10-18T12:24:43.368806",
     "exception": false,
     "start_time": "2024-10-18T12:24:37.116800",
     "status": "completed"
    },
    "tags": []
   },
   "source": [
    "### Actual vs  Prediction"
   ]
  },
  {
   "cell_type": "code",
   "execution_count": 16,
   "id": "140452c5",
   "metadata": {
    "execution": {
     "iopub.execute_input": "2024-10-18T12:24:55.910325Z",
     "iopub.status.busy": "2024-10-18T12:24:55.909956Z",
     "iopub.status.idle": "2024-10-18T12:25:02.489231Z",
     "shell.execute_reply": "2024-10-18T12:25:02.488399Z"
    },
    "papermill": {
     "duration": 12.875231,
     "end_time": "2024-10-18T12:25:02.493408",
     "exception": false,
     "start_time": "2024-10-18T12:24:49.618177",
     "status": "completed"
    },
    "tags": []
   },
   "outputs": [
    {
     "data": {
      "image/png": "[encoded data removed]",
      "text/plain": [
       "<Figure size 2000x2000 with 13 Axes>"
      ]
     },
     "metadata": {},
     "output_type": "display_data"
    }
   ],
   "source": [
    "fig=plt.subplots(figsize=(20, 20))\n",
    "for i,band  in enumerate(aod.val_pred_results.keys()):    \n",
    "    _=plt.subplot(5,3,i+1,)\n",
    "    _=sns.kdeplot(X_test['label'], label = 'Actual')\n",
    "    _=sns.kdeplot(aod.val_pred_results[band],label='Predicted')\n",
    "    _=plt.legend()\n",
    "    _=plt.title(f\"\\n{band.capitalize()} Actual vs Prediction\",fontsize=15)\n",
    "    _=plt.xlabel(\"\")\n",
    "   # _=plt.xticks(fontsize=15)\n",
    "    _=plt.tight_layout()\n",
    "plt.show()"
   ]
  }
 ],
 "metadata": {
  "kaggle": {
   "accelerator": "gpu",
   "dataSources": [
    {
     "datasetId": 5641307,
     "sourceId": 9314413,
     "sourceType": "datasetVersion"
    }
   ],
   "dockerImageVersionId": 30787,
   "isGpuEnabled": true,
   "isInternetEnabled": true,
   "language": "python",
   "sourceType": "notebook"
  },
  "kernelspec": {
   "display_name": "Python 3",
   "language": "python",
   "name": "python3"
  },
  "language_info": {
   "codemirror_mode": {
    "name": "ipython",
    "version": 3
   },
   "file_extension": ".py",
   "mimetype": "text/x-python",
   "name": "python",
   "nbconvert_exporter": "python",
   "pygments_lexer": "ipython3",
   "version": "3.10.14"
  },
  "papermill": {
   "default_parameters": {},
   "duration": 11172.343549,
   "end_time": "2024-10-18T12:25:11.198567",
   "environment_variables": {},
   "exception": null,
   "input_path": "__notebook__.ipynb",
   "output_path": "__notebook__.ipynb",
   "parameters": {},
   "start_time": "2024-10-18T09:18:58.855018",
   "version": "2.6.0"
  },
  "widgets": {
   "application/vnd.jupyter.widget-state+json": {
    "state": {
     "00e1b8ded7674b82abafb612fdf1e6e2": {
      "model_module": "@jupyter-widgets/controls",
      "model_module_version": "1.5.0",
      "model_name": "HBoxModel",
      "state": {
       "_dom_classes": [],
       "_model_module": "@jupyter-widgets/controls",
       "_model_module_version": "1.5.0",
       "_model_name": "HBoxModel",
       "_view_count": null,
       "_view_module": "@jupyter-widgets/controls",
       "_view_module_version": "1.5.0",
       "_view_name": "HBoxView",
       "box_style": "",
       "children": [
        "IPY_MODEL_be8ac9229aaf49adbc1280010e970ed9",
        "IPY_MODEL_45e750d2b7da4f8f84b0720e143f9900",
        "IPY_MODEL_ae2384417edc423e9415c31f58f1ba27"
       ],
       "layout": "IPY_MODEL_4cded14c57fb4af98b485ff0e59a453c"
      }
     },
     "076bc957496b4f6da0f1aed2e8ae8528": {
      "model_module": "@jupyter-widgets/base",
      "model_module_version": "1.2.0",
      "model_name": "LayoutModel",
      "state": {
       "_model_module": "@jupyter-widgets/base",
       "_model_module_version": "1.2.0",
       "_model_name": "LayoutModel",
       "_view_count": null,
       "_view_module": "@jupyter-widgets/base",
       "_view_module_version": "1.2.0",
       "_view_name": "LayoutView",
       "align_content": null,
       "align_items": null,
       "align_self": null,
       "border": null,
       "bottom": null,
       "display": null,
       "flex": null,
       "flex_flow": null,
       "grid_area": null,
       "grid_auto_columns": null,
       "grid_auto_flow": null,
       "grid_auto_rows": null,
       "grid_column": null,
       "grid_gap": null,
       "grid_row": null,
       "grid_template_areas": null,
       "grid_template_columns": null,
       "grid_template_rows": null,
       "height": null,
       "justify_content": null,
       "justify_items": null,
       "left": null,
       "margin": null,
       "max_height": null,
       "max_width": null,
       "min_height": null,
       "min_width": null,
       "object_fit": null,
       "object_position": null,
       "order": null,
       "overflow": null,
       "overflow_x": null,
       "overflow_y": null,
       "padding": null,
       "right": null,
       "top": null,
       "visibility": null,
       "width": null
      }
     },
     "45e750d2b7da4f8f84b0720e143f9900": {
      "model_module": "@jupyter-widgets/controls",
      "model_module_version": "1.5.0",
      "model_name": "FloatProgressModel",
      "state": {
       "_dom_classes": [],
       "_model_module": "@jupyter-widgets/controls",
       "_model_module_version": "1.5.0",
       "_model_name": "FloatProgressModel",
       "_view_count": null,
       "_view_module": "@jupyter-widgets/controls",
       "_view_module_version": "1.5.0",
       "_view_name": "ProgressView",
       "bar_style": "success",
       "description": "",
       "description_tooltip": null,
       "layout": "IPY_MODEL_98542856b66a4036bab06ae06d0172e9",
       "max": 21355344.0,
       "min": 0.0,
       "orientation": "horizontal",
       "style": "IPY_MODEL_a69423baccbe40e6814ee3f816f41dbe",
       "value": 21355344.0
      }
     },
     "4cded14c57fb4af98b485ff0e59a453c": {
      "model_module": "@jupyter-widgets/base",
      "model_module_version": "1.2.0",
      "model_name": "LayoutModel",
      "state": {
       "_model_module": "@jupyter-widgets/base",
       "_model_module_version": "1.2.0",
       "_model_name": "LayoutModel",
       "_view_count": null,
       "_view_module": "@jupyter-widgets/base",
       "_view_module_version": "1.2.0",
       "_view_name": "LayoutView",
       "align_content": null,
       "align_items": null,
       "align_self": null,
       "border": null,
       "bottom": null,
       "display": null,
       "flex": null,
       "flex_flow": null,
       "grid_area": null,
       "grid_auto_columns": null,
       "grid_auto_flow": null,
       "grid_auto_rows": null,
       "grid_column": null,
       "grid_gap": null,
       "grid_row": null,
       "grid_template_areas": null,
       "grid_template_columns": null,
       "grid_template_rows": null,
       "height": null,
       "justify_content": null,
       "justify_items": null,
       "left": null,
       "margin": null,
       "max_height": null,
       "max_width": null,
       "min_height": null,
       "min_width": null,
       "object_fit": null,
       "object_position": null,
       "order": null,
       "overflow": null,
       "overflow_x": null,
       "overflow_y": null,
       "padding": null,
       "right": null,
       "top": null,
       "visibility": null,
       "width": null
      }
     },
     "6ca999c7cbee4e0dbc557aecfeb14be3": {
      "model_module": "@jupyter-widgets/controls",
      "model_module_version": "1.5.0",
      "model_name": "DescriptionStyleModel",
      "state": {
       "_model_module": "@jupyter-widgets/controls",
       "_model_module_version": "1.5.0",
       "_model_name": "DescriptionStyleModel",
       "_view_count": null,
       "_view_module": "@jupyter-widgets/base",
       "_view_module_version": "1.2.0",
       "_view_name": "StyleView",
       "description_width": ""
      }
     },
     "97ce9d75c9d44d29806b7683bdec083b": {
      "model_module": "@jupyter-widgets/controls",
      "model_module_version": "1.5.0",
      "model_name": "DescriptionStyleModel",
      "state": {
       "_model_module": "@jupyter-widgets/controls",
       "_model_module_version": "1.5.0",
       "_model_name": "DescriptionStyleModel",
       "_view_count": null,
       "_view_module": "@jupyter-widgets/base",
       "_view_module_version": "1.2.0",
       "_view_name": "StyleView",
       "description_width": ""
      }
     },
     "98542856b66a4036bab06ae06d0172e9": {
      "model_module": "@jupyter-widgets/base",
      "model_module_version": "1.2.0",
      "model_name": "LayoutModel",
      "state": {
       "_model_module": "@jupyter-widgets/base",
       "_model_module_version": "1.2.0",
       "_model_name": "LayoutModel",
       "_view_count": null,
       "_view_module": "@jupyter-widgets/base",
       "_view_module_version": "1.2.0",
       "_view_name": "LayoutView",
       "align_content": null,
       "align_items": null,
       "align_self": null,
       "border": null,
       "bottom": null,
       "display": null,
       "flex": null,
       "flex_flow": null,
       "grid_area": null,
       "grid_auto_columns": null,
       "grid_auto_flow": null,
       "grid_auto_rows": null,
       "grid_column": null,
       "grid_gap": null,
       "grid_row": null,
       "grid_template_areas": null,
       "grid_template_columns": null,
       "grid_template_rows": null,
       "height": null,
       "justify_content": null,
       "justify_items": null,
       "left": null,
       "margin": null,
       "max_height": null,
       "max_width": null,
       "min_height": null,
       "min_width": null,
       "object_fit": null,
       "object_position": null,
       "order": null,
       "overflow": null,
       "overflow_x": null,
       "overflow_y": null,
       "padding": null,
       "right": null,
       "top": null,
       "visibility": null,
       "width": null
      }
     },
     "985879507561448fa989bf581fd02f1d": {
      "model_module": "@jupyter-widgets/base",
      "model_module_version": "1.2.0",
      "model_name": "LayoutModel",
      "state": {
       "_model_module": "@jupyter-widgets/base",
       "_model_module_version": "1.2.0",
       "_model_name": "LayoutModel",
       "_view_count": null,
       "_view_module": "@jupyter-widgets/base",
       "_view_module_version": "1.2.0",
       "_view_name": "LayoutView",
       "align_content": null,
       "align_items": null,
       "align_self": null,
       "border": null,
       "bottom": null,
       "display": null,
       "flex": null,
       "flex_flow": null,
       "grid_area": null,
       "grid_auto_columns": null,
       "grid_auto_flow": null,
       "grid_auto_rows": null,
       "grid_column": null,
       "grid_gap": null,
       "grid_row": null,
       "grid_template_areas": null,
       "grid_template_columns": null,
       "grid_template_rows": null,
       "height": null,
       "justify_content": null,
       "justify_items": null,
       "left": null,
       "margin": null,
       "max_height": null,
       "max_width": null,
       "min_height": null,
       "min_width": null,
       "object_fit": null,
       "object_position": null,
       "order": null,
       "overflow": null,
       "overflow_x": null,
       "overflow_y": null,
       "padding": null,
       "right": null,
       "top": null,
       "visibility": null,
       "width": null
      }
     },
     "a69423baccbe40e6814ee3f816f41dbe": {
      "model_module": "@jupyter-widgets/controls",
      "model_module_version": "1.5.0",
      "model_name": "ProgressStyleModel",
      "state": {
       "_model_module": "@jupyter-widgets/controls",
       "_model_module_version": "1.5.0",
       "_model_name": "ProgressStyleModel",
       "_view_count": null,
       "_view_module": "@jupyter-widgets/base",
       "_view_module_version": "1.2.0",
       "_view_name": "StyleView",
       "bar_color": null,
       "description_width": ""
      }
     },
     "ae2384417edc423e9415c31f58f1ba27": {
      "model_module": "@jupyter-widgets/controls",
      "model_module_version": "1.5.0",
      "model_name": "HTMLModel",
      "state": {
       "_dom_classes": [],
       "_model_module": "@jupyter-widgets/controls",
       "_model_module_version": "1.5.0",
       "_model_name": "HTMLModel",
       "_view_count": null,
       "_view_module": "@jupyter-widgets/controls",
       "_view_module_version": "1.5.0",
       "_view_name": "HTMLView",
       "description": "",
       "description_tooltip": null,
       "layout": "IPY_MODEL_076bc957496b4f6da0f1aed2e8ae8528",
       "placeholder": "​",
       "style": "IPY_MODEL_6ca999c7cbee4e0dbc557aecfeb14be3",
       "value": " 21.4M/21.4M [00:00&lt;00:00, 42.9MB/s]"
      }
     },
     "be8ac9229aaf49adbc1280010e970ed9": {
      "model_module": "@jupyter-widgets/controls",
      "model_module_version": "1.5.0",
      "model_name": "HTMLModel",
      "state": {
       "_dom_classes": [],
       "_model_module": "@jupyter-widgets/controls",
       "_model_module_version": "1.5.0",
       "_model_name": "HTMLModel",
       "_view_count": null,
       "_view_module": "@jupyter-widgets/controls",
       "_view_module_version": "1.5.0",
       "_view_name": "HTMLView",
       "description": "",
       "description_tooltip": null,
       "layout": "IPY_MODEL_985879507561448fa989bf581fd02f1d",
       "placeholder": "​",
       "style": "IPY_MODEL_97ce9d75c9d44d29806b7683bdec083b",
       "value": "model.safetensors: 100%"
      }
     }
    },
    "version_major": 2,
    "version_minor": 0
   }
  }
 },
 "nbformat": 4,
 "nbformat_minor": 5
}
