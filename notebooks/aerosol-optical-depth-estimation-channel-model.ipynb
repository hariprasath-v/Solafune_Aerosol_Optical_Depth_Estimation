{
 "cells": [
  {
   "cell_type": "markdown",
   "id": "880d9425",
   "metadata": {
    "papermill": {
     "duration": 0.007929,
     "end_time": "2024-10-31T01:19:35.723233",
     "exception": false,
     "start_time": "2024-10-31T01:19:35.715304",
     "status": "completed"
    },
    "tags": []
   },
   "source": [
    "### About\n",
    "### Estimate AOD(Aerosol Optical Depth) using Sentinel-2 data, leveraging its spectral bands and spatial resolution to improve accuracy.\n",
    "\n",
    "### This notebook is about estimating Aerosol Optical Depth using each spectral band individually.\n",
    "\n",
    "### The AOD estimation process,\n",
    "- Select band pixel\n",
    "- create embedding\n",
    "- train the xgboost model using the embedding vectors\n",
    "\n",
    "### Competition hosted on [Solafune](https://solafune.com/competitions/ca6ee401-eba9-4f7d-95e6-d1b378a17200?menu=about&tab=overview)"
   ]
  },
  {
   "cell_type": "markdown",
   "id": "26824497",
   "metadata": {
    "papermill": {
     "duration": 0.006836,
     "end_time": "2024-10-31T01:19:35.737434",
     "exception": false,
     "start_time": "2024-10-31T01:19:35.730598",
     "status": "completed"
    },
    "tags": []
   },
   "source": [
    "### Competition policy\n",
    "#### cf. @solafune(https://solafune.com) Use for any purpose other than participation in the competition or commercial use is prohibited. If you would like to use them for any of the above purposes, please contact us.¶"
   ]
  },
  {
   "cell_type": "markdown",
   "id": "8dcbf0e3",
   "metadata": {
    "execution": {
     "iopub.execute_input": "2024-10-18T06:39:53.100500Z",
     "iopub.status.busy": "2024-10-18T06:39:53.100037Z",
     "iopub.status.idle": "2024-10-18T06:39:53.117526Z",
     "shell.execute_reply": "2024-10-18T06:39:53.116670Z",
     "shell.execute_reply.started": "2024-10-18T06:39:53.100456Z"
    },
    "papermill": {
     "duration": 0.006962,
     "end_time": "2024-10-31T01:19:35.751265",
     "exception": false,
     "start_time": "2024-10-31T01:19:35.744303",
     "status": "completed"
    },
    "tags": []
   },
   "source": [
    "### Import necessary packages and libraries"
   ]
  },
  {
   "cell_type": "code",
   "execution_count": 1,
   "id": "49086db3",
   "metadata": {
    "execution": {
     "iopub.execute_input": "2024-10-31T01:19:35.767914Z",
     "iopub.status.busy": "2024-10-31T01:19:35.767516Z",
     "iopub.status.idle": "2024-10-31T01:19:50.095548Z",
     "shell.execute_reply": "2024-10-31T01:19:50.094399Z"
    },
    "papermill": {
     "duration": 14.338722,
     "end_time": "2024-10-31T01:19:50.098098",
     "exception": false,
     "start_time": "2024-10-31T01:19:35.759376",
     "status": "completed"
    },
    "tags": []
   },
   "outputs": [],
   "source": [
    "!pip install imagecodecs -qq"
   ]
  },
  {
   "cell_type": "code",
   "execution_count": 2,
   "id": "bb5fe12a",
   "metadata": {
    "_cell_guid": "b1076dfc-b9ad-4769-8c92-a6c4dae69d19",
    "_uuid": "8f2839f25d086af736a60e9eeb907d3b93b6e0e5",
    "execution": {
     "iopub.execute_input": "2024-10-31T01:19:50.114513Z",
     "iopub.status.busy": "2024-10-31T01:19:50.114079Z",
     "iopub.status.idle": "2024-10-31T01:19:59.752045Z",
     "shell.execute_reply": "2024-10-31T01:19:59.751270Z"
    },
    "papermill": {
     "duration": 9.64873,
     "end_time": "2024-10-31T01:19:59.754362",
     "exception": false,
     "start_time": "2024-10-31T01:19:50.105632",
     "status": "completed"
    },
    "tags": []
   },
   "outputs": [],
   "source": [
    "import pandas as pd #dataframe manipulation\n",
    "import numpy as np  #for numerical process\n",
    "import seaborn as sns #for visualization\n",
    "from matplotlib import pyplot as plt #for visualization\n",
    "from PIL import Image, ImageDraw, ImageEnhance,ImageStat #for read the image\n",
    "import skimage.color \n",
    "import skimage.io as skio\n",
    "from skimage.transform import resize\n",
    "import skimage.util\n",
    "from skimage.measure import shannon_entropy, blur_effect\n",
    "import imagehash #for calculation hash value of image\n",
    "import cv2 #for read the image\n",
    "import re\n",
    "import os\n",
    "import itertools\n",
    "import os\n",
    "#import distance\n",
    "import time\n",
    "%matplotlib inline\n",
    "import warnings\n",
    "warnings.filterwarnings(\"ignore\")\n",
    "from tqdm import tqdm_notebook,tqdm\n",
    "from IPython.display import display, HTML\n",
    "import tifffile\n",
    "import shutil\n",
    "from tqdm import tqdm\n",
    "import json\n",
    "import random\n",
    "\n",
    "from sklearn.model_selection import train_test_split,KFold\n",
    "import logging\n",
    "from IPython.display import clear_output\n",
    "from shapely.geometry import Polygon\n",
    "\n",
    "\n",
    "import xgboost as xgb\n",
    "import torch\n",
    "import timm\n",
    "from torchvision import transforms\n",
    "import tifffile"
   ]
  },
  {
   "cell_type": "markdown",
   "id": "201dee72",
   "metadata": {
    "papermill": {
     "duration": 0.006879,
     "end_time": "2024-10-31T01:19:59.768861",
     "exception": false,
     "start_time": "2024-10-31T01:19:59.761982",
     "status": "completed"
    },
    "tags": []
   },
   "source": [
    "### Import data"
   ]
  },
  {
   "cell_type": "code",
   "execution_count": 3,
   "id": "6e3b1206",
   "metadata": {
    "execution": {
     "iopub.execute_input": "2024-10-31T01:19:59.784249Z",
     "iopub.status.busy": "2024-10-31T01:19:59.783842Z",
     "iopub.status.idle": "2024-10-31T01:19:59.805856Z",
     "shell.execute_reply": "2024-10-31T01:19:59.805135Z"
    },
    "papermill": {
     "duration": 0.032129,
     "end_time": "2024-10-31T01:19:59.807915",
     "exception": false,
     "start_time": "2024-10-31T01:19:59.775786",
     "status": "completed"
    },
    "tags": []
   },
   "outputs": [],
   "source": [
    "train = pd.read_csv(\"/kaggle/input/solafune-aerosol-optical-depth-estimation/train_answer.csv\",header=None)\n",
    "\n",
    "train.columns = ['filename','location','label']\n",
    "\n",
    "test = pd.DataFrame({'filename':[f\"test_{i}.tif\" for i in range(1,1490)]})\n",
    "\n",
    "\n",
    "train_path = \"/kaggle/input/solafune-aerosol-optical-depth-estimation/train_images/train_images/\"\n",
    "test_path = \"/kaggle/input/solafune-aerosol-optical-depth-estimation/test_images/test_images/\""
   ]
  },
  {
   "cell_type": "code",
   "execution_count": 4,
   "id": "d770ef84",
   "metadata": {
    "execution": {
     "iopub.execute_input": "2024-10-31T01:19:59.823832Z",
     "iopub.status.busy": "2024-10-31T01:19:59.823540Z",
     "iopub.status.idle": "2024-10-31T01:19:59.831300Z",
     "shell.execute_reply": "2024-10-31T01:19:59.830472Z"
    },
    "papermill": {
     "duration": 0.017841,
     "end_time": "2024-10-31T01:19:59.833307",
     "exception": false,
     "start_time": "2024-10-31T01:19:59.815466",
     "status": "completed"
    },
    "tags": []
   },
   "outputs": [
    {
     "data": {
      "text/plain": [
       "{'B1_Aerosols': 0,\n",
       " 'B2_Blue': 1,\n",
       " 'B3_Green': 2,\n",
       " 'B4_Red': 3,\n",
       " 'B5_Red_Edge_1': 4,\n",
       " 'B6_Red_Edge_2': 5,\n",
       " 'B7_Red_Edge_3': 6,\n",
       " 'B8_NIR': 7,\n",
       " 'B8A_Red_Edge_4': 8,\n",
       " 'B9_Water_vapor': 9,\n",
       " 'SWIR_Cirrus': 10,\n",
       " 'B11_SWIR_1': 11,\n",
       " 'B12_SWIR_2': 12}"
      ]
     },
     "execution_count": 4,
     "metadata": {},
     "output_type": "execute_result"
    }
   ],
   "source": [
    "{'B1_Aerosols':0,'B2_Blue':1,'B3_Green':2,'B4_Red':3,\n",
    "'B5_Red_Edge_1':4,'B6_Red_Edge_2':5,'B7_Red_Edge_3':6,\n",
    "'B8_NIR':7,'B8A_Red_Edge_4':8,'B9_Water_vapor':9,'SWIR_Cirrus':10,'B11_SWIR_1':11,\n",
    "'B12_SWIR_2':12}"
   ]
  },
  {
   "cell_type": "markdown",
   "id": "366dca84",
   "metadata": {
    "papermill": {
     "duration": 0.006807,
     "end_time": "2024-10-31T01:19:59.847270",
     "exception": false,
     "start_time": "2024-10-31T01:19:59.840463",
     "status": "completed"
    },
    "tags": []
   },
   "source": [
    "### Split data"
   ]
  },
  {
   "cell_type": "code",
   "execution_count": 5,
   "id": "763c098b",
   "metadata": {
    "execution": {
     "iopub.execute_input": "2024-10-31T01:19:59.862726Z",
     "iopub.status.busy": "2024-10-31T01:19:59.862436Z",
     "iopub.status.idle": "2024-10-31T01:19:59.875100Z",
     "shell.execute_reply": "2024-10-31T01:19:59.874258Z"
    },
    "papermill": {
     "duration": 0.02275,
     "end_time": "2024-10-31T01:19:59.877045",
     "exception": false,
     "start_time": "2024-10-31T01:19:59.854295",
     "status": "completed"
    },
    "tags": []
   },
   "outputs": [],
   "source": [
    "X_train, X_test = train_test_split(train, test_size=0.2,random_state=42)                                                                "
   ]
  },
  {
   "cell_type": "markdown",
   "id": "fe34308d",
   "metadata": {
    "papermill": {
     "duration": 0.006811,
     "end_time": "2024-10-31T01:19:59.891082",
     "exception": false,
     "start_time": "2024-10-31T01:19:59.884271",
     "status": "completed"
    },
    "tags": []
   },
   "source": [
    "### Embedding model"
   ]
  },
  {
   "cell_type": "code",
   "execution_count": 6,
   "id": "ef6e3322",
   "metadata": {
    "execution": {
     "iopub.execute_input": "2024-10-31T01:19:59.906360Z",
     "iopub.status.busy": "2024-10-31T01:19:59.906057Z",
     "iopub.status.idle": "2024-10-31T01:20:00.651812Z",
     "shell.execute_reply": "2024-10-31T01:20:00.651001Z"
    },
    "papermill": {
     "duration": 0.755815,
     "end_time": "2024-10-31T01:20:00.653899",
     "exception": false,
     "start_time": "2024-10-31T01:19:59.898084",
     "status": "completed"
    },
    "tags": []
   },
   "outputs": [
    {
     "data": {
      "application/vnd.jupyter.widget-view+json": {
       "model_id": "904a4b18472a4645ae1d960917b509e0",
       "version_major": 2,
       "version_minor": 0
      },
      "text/plain": [
       "model.safetensors:   0%|          | 0.00/21.4M [00:00<?, ?B/s]"
      ]
     },
     "metadata": {},
     "output_type": "display_data"
    }
   ],
   "source": [
    "model_name = 'efficientnet_b0.ra_in1k'\n",
    "model = timm.create_model(model_name, pretrained=True, num_classes=0,in_chans=1)"
   ]
  },
  {
   "cell_type": "markdown",
   "id": "96127802",
   "metadata": {
    "papermill": {
     "duration": 0.00731,
     "end_time": "2024-10-31T01:20:00.668848",
     "exception": false,
     "start_time": "2024-10-31T01:20:00.661538",
     "status": "completed"
    },
    "tags": []
   },
   "source": [
    "### Convert image to tensor"
   ]
  },
  {
   "cell_type": "code",
   "execution_count": 7,
   "id": "6be1eac1",
   "metadata": {
    "execution": {
     "iopub.execute_input": "2024-10-31T01:20:00.685300Z",
     "iopub.status.busy": "2024-10-31T01:20:00.684625Z",
     "iopub.status.idle": "2024-10-31T01:20:00.689702Z",
     "shell.execute_reply": "2024-10-31T01:20:00.688905Z"
    },
    "papermill": {
     "duration": 0.015413,
     "end_time": "2024-10-31T01:20:00.691541",
     "exception": false,
     "start_time": "2024-10-31T01:20:00.676128",
     "status": "completed"
    },
    "tags": []
   },
   "outputs": [],
   "source": [
    "# Define the transform pipeline: resize, normalize, and convert to tensor\n",
    "transform = transforms.Compose([\n",
    "    transforms.Resize((512, 512)),  # Resize the image to 224x224\n",
    "    transforms.ToTensor(),  # Convert the image to a PyTorch tensor\n",
    "    #transforms.Normalize(mean=[0.485, 0.456, 0.406], std=[0.229, 0.224, 0.225]),  # Normalize\n",
    "])\n"
   ]
  },
  {
   "cell_type": "markdown",
   "id": "54e89153",
   "metadata": {
    "papermill": {
     "duration": 0.007302,
     "end_time": "2024-10-31T01:20:00.706324",
     "exception": false,
     "start_time": "2024-10-31T01:20:00.699022",
     "status": "completed"
    },
    "tags": []
   },
   "source": [
    "### Function to get embedding"
   ]
  },
  {
   "cell_type": "code",
   "execution_count": 8,
   "id": "d1b5459d",
   "metadata": {
    "execution": {
     "iopub.execute_input": "2024-10-31T01:20:00.722631Z",
     "iopub.status.busy": "2024-10-31T01:20:00.722310Z",
     "iopub.status.idle": "2024-10-31T01:20:00.729274Z",
     "shell.execute_reply": "2024-10-31T01:20:00.728328Z"
    },
    "papermill": {
     "duration": 0.017407,
     "end_time": "2024-10-31T01:20:00.731150",
     "exception": false,
     "start_time": "2024-10-31T01:20:00.713743",
     "status": "completed"
    },
    "tags": []
   },
   "outputs": [],
   "source": [
    "def get_image_embedding(df,path,band):\n",
    "    embed=[]\n",
    "    for img in tqdm(df['filename']):\n",
    "        #im=rasterio.open(f\"{path}{img}\").read().astype(np.float64)\n",
    "        \n",
    "        image = open_image(f\"{path}{img}\",band)\n",
    "        \n",
    "        # Apply the transformations\n",
    "        image = transform(image)\n",
    "        \n",
    "        # Add a batch dimension (N, C, H, W) for the model input\n",
    "        image = image.unsqueeze(0)\n",
    "        \n",
    "         # Ensure the model is in evaluation mode\n",
    "        model.eval()\n",
    "\n",
    "        # Disable gradient calculation for inference\n",
    "        with torch.no_grad():\n",
    "            embedding = model(image)\n",
    "        embed.append(embedding.detach().cpu().numpy())\n",
    "        del image,embedding\n",
    "    return embed"
   ]
  },
  {
   "cell_type": "markdown",
   "id": "1aeec53a",
   "metadata": {
    "papermill": {
     "duration": 0.007047,
     "end_time": "2024-10-31T01:20:00.745560",
     "exception": false,
     "start_time": "2024-10-31T01:20:00.738513",
     "status": "completed"
    },
    "tags": []
   },
   "source": [
    "### Evaluation metric"
   ]
  },
  {
   "cell_type": "code",
   "execution_count": 9,
   "id": "880c3e35",
   "metadata": {
    "execution": {
     "iopub.execute_input": "2024-10-31T01:20:00.761891Z",
     "iopub.status.busy": "2024-10-31T01:20:00.761306Z",
     "iopub.status.idle": "2024-10-31T01:20:00.766165Z",
     "shell.execute_reply": "2024-10-31T01:20:00.765366Z"
    },
    "papermill": {
     "duration": 0.015157,
     "end_time": "2024-10-31T01:20:00.768012",
     "exception": false,
     "start_time": "2024-10-31T01:20:00.752855",
     "status": "completed"
    },
    "tags": []
   },
   "outputs": [],
   "source": [
    "from scipy.stats import pearsonr\n",
    "\n",
    "def pearsonr_eval(preds, dtrain):\n",
    "    labels = dtrain.get_label()\n",
    "    return 'pearsonr', pearsonr(preds, labels)[0]\n"
   ]
  },
  {
   "cell_type": "markdown",
   "id": "031da321",
   "metadata": {
    "papermill": {
     "duration": 0.007156,
     "end_time": "2024-10-31T01:20:00.782622",
     "exception": false,
     "start_time": "2024-10-31T01:20:00.775466",
     "status": "completed"
    },
    "tags": []
   },
   "source": [
    "### Function to read image"
   ]
  },
  {
   "cell_type": "code",
   "execution_count": 10,
   "id": "d2b5073a",
   "metadata": {
    "execution": {
     "iopub.execute_input": "2024-10-31T01:20:00.798732Z",
     "iopub.status.busy": "2024-10-31T01:20:00.798114Z",
     "iopub.status.idle": "2024-10-31T01:20:00.803484Z",
     "shell.execute_reply": "2024-10-31T01:20:00.802706Z"
    },
    "papermill": {
     "duration": 0.015393,
     "end_time": "2024-10-31T01:20:00.805294",
     "exception": false,
     "start_time": "2024-10-31T01:20:00.789901",
     "status": "completed"
    },
    "tags": []
   },
   "outputs": [],
   "source": [
    "def open_image(path,band):\n",
    "    img=tifffile.imread(path)\n",
    "   # new_image=np.stack((img[:,:,7],\n",
    "      #                 img[:,:,10],img[:,:,3]),axis=-1)\n",
    "    new_image=img[:,:,band]\n",
    "                        \n",
    "    new_image = Image.fromarray((new_image*255).astype(np.uint8))\n",
    "    \n",
    "    #new_image = new_image.resize((512,512))\n",
    "    \n",
    "    return new_image\n",
    "   "
   ]
  },
  {
   "cell_type": "markdown",
   "id": "533e4d57",
   "metadata": {
    "papermill": {
     "duration": 0.007004,
     "end_time": "2024-10-31T01:20:00.819659",
     "exception": false,
     "start_time": "2024-10-31T01:20:00.812655",
     "status": "completed"
    },
    "tags": []
   },
   "source": [
    "### AOD model"
   ]
  },
  {
   "cell_type": "code",
   "execution_count": 11,
   "id": "b4f849ea",
   "metadata": {
    "execution": {
     "iopub.execute_input": "2024-10-31T01:20:00.835600Z",
     "iopub.status.busy": "2024-10-31T01:20:00.835075Z",
     "iopub.status.idle": "2024-10-31T01:20:00.852820Z",
     "shell.execute_reply": "2024-10-31T01:20:00.851970Z"
    },
    "papermill": {
     "duration": 0.027851,
     "end_time": "2024-10-31T01:20:00.854684",
     "exception": false,
     "start_time": "2024-10-31T01:20:00.826833",
     "status": "completed"
    },
    "tags": []
   },
   "outputs": [],
   "source": [
    "class AodModel():\n",
    "    def __init__(self,train_df, val_df, train_label, val_label, test_df, train_path, test_path):\n",
    "        self.train_df = train_df\n",
    "        self.val_df = val_df\n",
    "        self.train_label = train_label\n",
    "        self.val_label = val_label\n",
    "        self.test_df =  test_df\n",
    "        self.train_path = train_path\n",
    "        self.test_path = test_path\n",
    "        self.score = dict()\n",
    "        self.val_pred_results = dict()\n",
    "        self.test_pred_results = dict()\n",
    "        self.final_sub = dict()\n",
    "    def train_model(self):\n",
    "        for i in range(13):\n",
    "            print(f\"Prepaing training data for band:{i+1}\\n\")\n",
    "            train_embeddings=get_image_embedding(self.train_df ,self.train_path ,i)\n",
    "            print(f\"training data preparation for band:{i+1} is done\\n\")\n",
    "        \n",
    "            print(f\"Preparing validation data for band:{i+1}\\n\")\n",
    "            validation_embeddings=get_image_embedding(self.val_df ,self.train_path ,i)\n",
    "            print(f\"Validation data preparation for band:{i+1} is done\\n\")\n",
    "            \n",
    "            print(f\"Training model for band {i+1}\\n\")\n",
    "            #xgboost model\n",
    "            reg=xgb.XGBRegressor(random_state=42)\n",
    "            reg.fit(np.concatenate(train_embeddings), self.train_label,\n",
    "                eval_set=[(np.concatenate(validation_embeddings),self.val_label)],\n",
    "                eval_metric=pearsonr_eval,\n",
    "                early_stopping_rounds=200, verbose=False)\n",
    "            val_pred = reg.predict(np.concatenate(validation_embeddings))\n",
    "            score_result = pearsonr(self.val_label,val_pred,)[0].round(2)*100 \n",
    "            print(f\"Band {i+1} Validation  pearsonr:{score_result}\\n\")\n",
    "            self.val_pred_results[f\"band_{i+1}\"] = val_pred\n",
    "            self.score[f\"band_{i+1}\"] = score_result\n",
    "            print(f\"Testing data preparation for band:{i+1}\\n\")\n",
    "            test_embedding = get_image_embedding(self.test_df, self.test_path ,i)\n",
    "            print(f\"Testing data preparation for band:{i+1} is done\\n\")\n",
    "            print(f\"Predict test data for band_{i+1}\\n\")\n",
    "            test_pred = reg.predict(np.concatenate(test_embedding))\n",
    "            self.test_pred_results[f\"band_{i+1}\"] = test_pred\n",
    "            print(f\"Test Prediction is done for band_{i+1}\\n\")\n",
    "            print(\"=\"*100)\n",
    "        self.create_test_result_df()\n",
    "\n",
    "    def create_test_result_df(self):\n",
    "        for key, value in self.test_pred_results.items():\n",
    "            self.final_sub[key] = pd.DataFrame({'fielname':self.test_df['filename'],'AOD':value})\n",
    "\n",
    "        os.makedirs(\"/kaggle/working/Channel_wise_prediction\", exist_ok = True)\n",
    "        os.chdir(\"/kaggle/working/Channel_wise_prediction/\")\n",
    "        ref_name = \"efficientnet_b0.ra_in1k_embeddings_xgb_baseline\"\n",
    "        \n",
    "        for key, value in self.final_sub.items():\n",
    "            value.to_csv(f\"{ref_name}_{key}.csv\",index=False)\n",
    "\n",
    "        pd.DataFrame(list(self.score.items()),columns=['Band', 'Validation_score']).to_csv(f\"{ref_name}_validation_results.csv\",index=False)\n",
    "        os.chdir(\"/kaggle/working/\")\n",
    "        shutil.make_archive(f\"{ref_name}_band_1-13\", 'zip', \"/kaggle/working/Channel_wise_prediction/\")\n",
    "        print(\"Final submission files created\")\n",
    "        \n",
    "    \n",
    "        \n",
    "       \n",
    "        "
   ]
  },
  {
   "cell_type": "code",
   "execution_count": 12,
   "id": "f460cb24",
   "metadata": {
    "execution": {
     "iopub.execute_input": "2024-10-31T01:20:00.870623Z",
     "iopub.status.busy": "2024-10-31T01:20:00.870139Z",
     "iopub.status.idle": "2024-10-31T01:20:00.874685Z",
     "shell.execute_reply": "2024-10-31T01:20:00.873836Z"
    },
    "papermill": {
     "duration": 0.01468,
     "end_time": "2024-10-31T01:20:00.876586",
     "exception": false,
     "start_time": "2024-10-31T01:20:00.861906",
     "status": "completed"
    },
    "tags": []
   },
   "outputs": [],
   "source": [
    "aod = AodModel(train_df = X_train\n",
    "               ,val_df = X_test\n",
    "               ,train_label = X_train['label']\n",
    "               ,val_label = X_test['label']\n",
    "               ,test_df = test\n",
    "               ,train_path = train_path\n",
    "               ,test_path = test_path)"
   ]
  },
  {
   "cell_type": "markdown",
   "id": "0d6146e5",
   "metadata": {
    "papermill": {
     "duration": 0.007445,
     "end_time": "2024-10-31T01:20:00.891534",
     "exception": false,
     "start_time": "2024-10-31T01:20:00.884089",
     "status": "completed"
    },
    "tags": []
   },
   "source": [
    "### Train the model"
   ]
  },
  {
   "cell_type": "code",
   "execution_count": 13,
   "id": "e1d13f79",
   "metadata": {
    "execution": {
     "iopub.execute_input": "2024-10-31T01:20:00.907078Z",
     "iopub.status.busy": "2024-10-31T01:20:00.906762Z",
     "iopub.status.idle": "2024-10-31T04:25:34.040055Z",
     "shell.execute_reply": "2024-10-31T04:25:34.039026Z"
    },
    "papermill": {
     "duration": 11133.143374,
     "end_time": "2024-10-31T04:25:34.042157",
     "exception": false,
     "start_time": "2024-10-31T01:20:00.898783",
     "status": "completed"
    },
    "tags": []
   },
   "outputs": [
    {
     "name": "stdout",
     "output_type": "stream",
     "text": [
      "Prepaing training data for band:1\n",
      "\n"
     ]
    },
    {
     "name": "stderr",
     "output_type": "stream",
     "text": [
      "100%|██████████| 3572/3572 [09:14<00:00,  6.45it/s]\n"
     ]
    },
    {
     "name": "stdout",
     "output_type": "stream",
     "text": [
      "training data preparation for band:1 is done\n",
      "\n",
      "Preparing validation data for band:1\n",
      "\n"
     ]
    },
    {
     "name": "stderr",
     "output_type": "stream",
     "text": [
      "100%|██████████| 893/893 [02:25<00:00,  6.12it/s]\n"
     ]
    },
    {
     "name": "stdout",
     "output_type": "stream",
     "text": [
      "Validation data preparation for band:1 is done\n",
      "\n",
      "Training model for band 1\n",
      "\n",
      "Band 1 Validation  pearsonr:75.0\n",
      "\n",
      "Testing data preparation for band:1\n",
      "\n"
     ]
    },
    {
     "name": "stderr",
     "output_type": "stream",
     "text": [
      "100%|██████████| 1489/1489 [03:47<00:00,  6.54it/s]\n"
     ]
    },
    {
     "name": "stdout",
     "output_type": "stream",
     "text": [
      "Testing data preparation for band:1 is done\n",
      "\n",
      "Predict test data for band_1\n",
      "\n",
      "Test Prediction is done for band_1\n",
      "\n",
      "====================================================================================================\n",
      "Prepaing training data for band:2\n",
      "\n"
     ]
    },
    {
     "name": "stderr",
     "output_type": "stream",
     "text": [
      "100%|██████████| 3572/3572 [08:20<00:00,  7.14it/s]\n"
     ]
    },
    {
     "name": "stdout",
     "output_type": "stream",
     "text": [
      "training data preparation for band:2 is done\n",
      "\n",
      "Preparing validation data for band:2\n",
      "\n"
     ]
    },
    {
     "name": "stderr",
     "output_type": "stream",
     "text": [
      "100%|██████████| 893/893 [02:07<00:00,  6.99it/s]\n"
     ]
    },
    {
     "name": "stdout",
     "output_type": "stream",
     "text": [
      "Validation data preparation for band:2 is done\n",
      "\n",
      "Training model for band 2\n",
      "\n",
      "Band 2 Validation  pearsonr:81.0\n",
      "\n",
      "Testing data preparation for band:2\n",
      "\n"
     ]
    },
    {
     "name": "stderr",
     "output_type": "stream",
     "text": [
      "100%|██████████| 1489/1489 [03:32<00:00,  6.99it/s]\n"
     ]
    },
    {
     "name": "stdout",
     "output_type": "stream",
     "text": [
      "Testing data preparation for band:2 is done\n",
      "\n",
      "Predict test data for band_2\n",
      "\n",
      "Test Prediction is done for band_2\n",
      "\n",
      "====================================================================================================\n",
      "Prepaing training data for band:3\n",
      "\n"
     ]
    },
    {
     "name": "stderr",
     "output_type": "stream",
     "text": [
      "100%|██████████| 3572/3572 [08:50<00:00,  6.74it/s]\n"
     ]
    },
    {
     "name": "stdout",
     "output_type": "stream",
     "text": [
      "training data preparation for band:3 is done\n",
      "\n",
      "Preparing validation data for band:3\n",
      "\n"
     ]
    },
    {
     "name": "stderr",
     "output_type": "stream",
     "text": [
      "100%|██████████| 893/893 [02:14<00:00,  6.65it/s]\n"
     ]
    },
    {
     "name": "stdout",
     "output_type": "stream",
     "text": [
      "Validation data preparation for band:3 is done\n",
      "\n",
      "Training model for band 3\n",
      "\n",
      "Band 3 Validation  pearsonr:75.0\n",
      "\n",
      "Testing data preparation for band:3\n",
      "\n"
     ]
    },
    {
     "name": "stderr",
     "output_type": "stream",
     "text": [
      "100%|██████████| 1489/1489 [03:44<00:00,  6.63it/s]\n"
     ]
    },
    {
     "name": "stdout",
     "output_type": "stream",
     "text": [
      "Testing data preparation for band:3 is done\n",
      "\n",
      "Predict test data for band_3\n",
      "\n",
      "Test Prediction is done for band_3\n",
      "\n",
      "====================================================================================================\n",
      "Prepaing training data for band:4\n",
      "\n"
     ]
    },
    {
     "name": "stderr",
     "output_type": "stream",
     "text": [
      "100%|██████████| 3572/3572 [08:55<00:00,  6.67it/s]\n"
     ]
    },
    {
     "name": "stdout",
     "output_type": "stream",
     "text": [
      "training data preparation for band:4 is done\n",
      "\n",
      "Preparing validation data for band:4\n",
      "\n"
     ]
    },
    {
     "name": "stderr",
     "output_type": "stream",
     "text": [
      "100%|██████████| 893/893 [02:15<00:00,  6.59it/s]\n"
     ]
    },
    {
     "name": "stdout",
     "output_type": "stream",
     "text": [
      "Validation data preparation for band:4 is done\n",
      "\n",
      "Training model for band 4\n",
      "\n",
      "Band 4 Validation  pearsonr:67.0\n",
      "\n",
      "Testing data preparation for band:4\n",
      "\n"
     ]
    },
    {
     "name": "stderr",
     "output_type": "stream",
     "text": [
      "100%|██████████| 1489/1489 [03:30<00:00,  7.07it/s]\n"
     ]
    },
    {
     "name": "stdout",
     "output_type": "stream",
     "text": [
      "Testing data preparation for band:4 is done\n",
      "\n",
      "Predict test data for band_4\n",
      "\n",
      "Test Prediction is done for band_4\n",
      "\n",
      "====================================================================================================\n",
      "Prepaing training data for band:5\n",
      "\n"
     ]
    },
    {
     "name": "stderr",
     "output_type": "stream",
     "text": [
      "100%|██████████| 3572/3572 [08:29<00:00,  7.01it/s]\n"
     ]
    },
    {
     "name": "stdout",
     "output_type": "stream",
     "text": [
      "training data preparation for band:5 is done\n",
      "\n",
      "Preparing validation data for band:5\n",
      "\n"
     ]
    },
    {
     "name": "stderr",
     "output_type": "stream",
     "text": [
      "100%|██████████| 893/893 [01:44<00:00,  8.57it/s]\n"
     ]
    },
    {
     "name": "stdout",
     "output_type": "stream",
     "text": [
      "Validation data preparation for band:5 is done\n",
      "\n",
      "Training model for band 5\n",
      "\n",
      "Band 5 Validation  pearsonr:79.0\n",
      "\n",
      "Testing data preparation for band:5\n",
      "\n"
     ]
    },
    {
     "name": "stderr",
     "output_type": "stream",
     "text": [
      "100%|██████████| 1489/1489 [03:22<00:00,  7.37it/s]\n"
     ]
    },
    {
     "name": "stdout",
     "output_type": "stream",
     "text": [
      "Testing data preparation for band:5 is done\n",
      "\n",
      "Predict test data for band_5\n",
      "\n",
      "Test Prediction is done for band_5\n",
      "\n",
      "====================================================================================================\n",
      "Prepaing training data for band:6\n",
      "\n"
     ]
    },
    {
     "name": "stderr",
     "output_type": "stream",
     "text": [
      "100%|██████████| 3572/3572 [08:01<00:00,  7.41it/s]\n"
     ]
    },
    {
     "name": "stdout",
     "output_type": "stream",
     "text": [
      "training data preparation for band:6 is done\n",
      "\n",
      "Preparing validation data for band:6\n",
      "\n"
     ]
    },
    {
     "name": "stderr",
     "output_type": "stream",
     "text": [
      "100%|██████████| 893/893 [01:58<00:00,  7.53it/s]\n"
     ]
    },
    {
     "name": "stdout",
     "output_type": "stream",
     "text": [
      "Validation data preparation for band:6 is done\n",
      "\n",
      "Training model for band 6\n",
      "\n",
      "Band 6 Validation  pearsonr:82.0\n",
      "\n",
      "Testing data preparation for band:6\n",
      "\n"
     ]
    },
    {
     "name": "stderr",
     "output_type": "stream",
     "text": [
      "100%|██████████| 1489/1489 [03:24<00:00,  7.28it/s]\n"
     ]
    },
    {
     "name": "stdout",
     "output_type": "stream",
     "text": [
      "Testing data preparation for band:6 is done\n",
      "\n",
      "Predict test data for band_6\n",
      "\n",
      "Test Prediction is done for band_6\n",
      "\n",
      "====================================================================================================\n",
      "Prepaing training data for band:7\n",
      "\n"
     ]
    },
    {
     "name": "stderr",
     "output_type": "stream",
     "text": [
      "100%|██████████| 3572/3572 [08:02<00:00,  7.40it/s]\n"
     ]
    },
    {
     "name": "stdout",
     "output_type": "stream",
     "text": [
      "training data preparation for band:7 is done\n",
      "\n",
      "Preparing validation data for band:7\n",
      "\n"
     ]
    },
    {
     "name": "stderr",
     "output_type": "stream",
     "text": [
      "100%|██████████| 893/893 [02:03<00:00,  7.22it/s]\n"
     ]
    },
    {
     "name": "stdout",
     "output_type": "stream",
     "text": [
      "Validation data preparation for band:7 is done\n",
      "\n",
      "Training model for band 7\n",
      "\n",
      "Band 7 Validation  pearsonr:78.0\n",
      "\n",
      "Testing data preparation for band:7\n",
      "\n"
     ]
    },
    {
     "name": "stderr",
     "output_type": "stream",
     "text": [
      "100%|██████████| 1489/1489 [03:23<00:00,  7.32it/s]\n"
     ]
    },
    {
     "name": "stdout",
     "output_type": "stream",
     "text": [
      "Testing data preparation for band:7 is done\n",
      "\n",
      "Predict test data for band_7\n",
      "\n",
      "Test Prediction is done for band_7\n",
      "\n",
      "====================================================================================================\n",
      "Prepaing training data for band:8\n",
      "\n"
     ]
    },
    {
     "name": "stderr",
     "output_type": "stream",
     "text": [
      "100%|██████████| 3572/3572 [08:16<00:00,  7.20it/s]\n"
     ]
    },
    {
     "name": "stdout",
     "output_type": "stream",
     "text": [
      "training data preparation for band:8 is done\n",
      "\n",
      "Preparing validation data for band:8\n",
      "\n"
     ]
    },
    {
     "name": "stderr",
     "output_type": "stream",
     "text": [
      "100%|██████████| 893/893 [02:05<00:00,  7.12it/s]\n"
     ]
    },
    {
     "name": "stdout",
     "output_type": "stream",
     "text": [
      "Validation data preparation for band:8 is done\n",
      "\n",
      "Training model for band 8\n",
      "\n",
      "Band 8 Validation  pearsonr:74.0\n",
      "\n",
      "Testing data preparation for band:8\n",
      "\n"
     ]
    },
    {
     "name": "stderr",
     "output_type": "stream",
     "text": [
      "100%|██████████| 1489/1489 [03:24<00:00,  7.27it/s]\n"
     ]
    },
    {
     "name": "stdout",
     "output_type": "stream",
     "text": [
      "Testing data preparation for band:8 is done\n",
      "\n",
      "Predict test data for band_8\n",
      "\n",
      "Test Prediction is done for band_8\n",
      "\n",
      "====================================================================================================\n",
      "Prepaing training data for band:9\n",
      "\n"
     ]
    },
    {
     "name": "stderr",
     "output_type": "stream",
     "text": [
      "100%|██████████| 3572/3572 [08:18<00:00,  7.16it/s]\n"
     ]
    },
    {
     "name": "stdout",
     "output_type": "stream",
     "text": [
      "training data preparation for band:9 is done\n",
      "\n",
      "Preparing validation data for band:9\n",
      "\n"
     ]
    },
    {
     "name": "stderr",
     "output_type": "stream",
     "text": [
      "100%|██████████| 893/893 [02:07<00:00,  7.02it/s]\n"
     ]
    },
    {
     "name": "stdout",
     "output_type": "stream",
     "text": [
      "Validation data preparation for band:9 is done\n",
      "\n",
      "Training model for band 9\n",
      "\n",
      "Band 9 Validation  pearsonr:77.0\n",
      "\n",
      "Testing data preparation for band:9\n",
      "\n"
     ]
    },
    {
     "name": "stderr",
     "output_type": "stream",
     "text": [
      "100%|██████████| 1489/1489 [03:25<00:00,  7.26it/s]\n"
     ]
    },
    {
     "name": "stdout",
     "output_type": "stream",
     "text": [
      "Testing data preparation for band:9 is done\n",
      "\n",
      "Predict test data for band_9\n",
      "\n",
      "Test Prediction is done for band_9\n",
      "\n",
      "====================================================================================================\n",
      "Prepaing training data for band:10\n",
      "\n"
     ]
    },
    {
     "name": "stderr",
     "output_type": "stream",
     "text": [
      "100%|██████████| 3572/3572 [08:01<00:00,  7.42it/s]\n"
     ]
    },
    {
     "name": "stdout",
     "output_type": "stream",
     "text": [
      "training data preparation for band:10 is done\n",
      "\n",
      "Preparing validation data for band:10\n",
      "\n"
     ]
    },
    {
     "name": "stderr",
     "output_type": "stream",
     "text": [
      "100%|██████████| 893/893 [01:57<00:00,  7.60it/s]\n"
     ]
    },
    {
     "name": "stdout",
     "output_type": "stream",
     "text": [
      "Validation data preparation for band:10 is done\n",
      "\n",
      "Training model for band 10\n",
      "\n",
      "Band 10 Validation  pearsonr:57.99999999999999\n",
      "\n",
      "Testing data preparation for band:10\n",
      "\n"
     ]
    },
    {
     "name": "stderr",
     "output_type": "stream",
     "text": [
      "100%|██████████| 1489/1489 [03:20<00:00,  7.42it/s]\n"
     ]
    },
    {
     "name": "stdout",
     "output_type": "stream",
     "text": [
      "Testing data preparation for band:10 is done\n",
      "\n",
      "Predict test data for band_10\n",
      "\n",
      "Test Prediction is done for band_10\n",
      "\n",
      "====================================================================================================\n",
      "Prepaing training data for band:11\n",
      "\n"
     ]
    },
    {
     "name": "stderr",
     "output_type": "stream",
     "text": [
      "100%|██████████| 3572/3572 [08:07<00:00,  7.33it/s]\n"
     ]
    },
    {
     "name": "stdout",
     "output_type": "stream",
     "text": [
      "training data preparation for band:11 is done\n",
      "\n",
      "Preparing validation data for band:11\n",
      "\n"
     ]
    },
    {
     "name": "stderr",
     "output_type": "stream",
     "text": [
      "100%|██████████| 893/893 [01:59<00:00,  7.47it/s]\n"
     ]
    },
    {
     "name": "stdout",
     "output_type": "stream",
     "text": [
      "Validation data preparation for band:11 is done\n",
      "\n",
      "Training model for band 11\n",
      "\n",
      "Band 11 Validation  pearsonr:3.0\n",
      "\n",
      "Testing data preparation for band:11\n",
      "\n"
     ]
    },
    {
     "name": "stderr",
     "output_type": "stream",
     "text": [
      "100%|██████████| 1489/1489 [03:21<00:00,  7.41it/s]\n"
     ]
    },
    {
     "name": "stdout",
     "output_type": "stream",
     "text": [
      "Testing data preparation for band:11 is done\n",
      "\n",
      "Predict test data for band_11\n",
      "\n",
      "Test Prediction is done for band_11\n",
      "\n",
      "====================================================================================================\n",
      "Prepaing training data for band:12\n",
      "\n"
     ]
    },
    {
     "name": "stderr",
     "output_type": "stream",
     "text": [
      "100%|██████████| 3572/3572 [08:00<00:00,  7.43it/s]\n"
     ]
    },
    {
     "name": "stdout",
     "output_type": "stream",
     "text": [
      "training data preparation for band:12 is done\n",
      "\n",
      "Preparing validation data for band:12\n",
      "\n"
     ]
    },
    {
     "name": "stderr",
     "output_type": "stream",
     "text": [
      "100%|██████████| 893/893 [02:04<00:00,  7.14it/s]\n"
     ]
    },
    {
     "name": "stdout",
     "output_type": "stream",
     "text": [
      "Validation data preparation for band:12 is done\n",
      "\n",
      "Training model for band 12\n",
      "\n",
      "Band 12 Validation  pearsonr:62.0\n",
      "\n",
      "Testing data preparation for band:12\n",
      "\n"
     ]
    },
    {
     "name": "stderr",
     "output_type": "stream",
     "text": [
      "100%|██████████| 1489/1489 [03:25<00:00,  7.23it/s]\n"
     ]
    },
    {
     "name": "stdout",
     "output_type": "stream",
     "text": [
      "Testing data preparation for band:12 is done\n",
      "\n",
      "Predict test data for band_12\n",
      "\n",
      "Test Prediction is done for band_12\n",
      "\n",
      "====================================================================================================\n",
      "Prepaing training data for band:13\n",
      "\n"
     ]
    },
    {
     "name": "stderr",
     "output_type": "stream",
     "text": [
      "100%|██████████| 3572/3572 [08:08<00:00,  7.32it/s]\n"
     ]
    },
    {
     "name": "stdout",
     "output_type": "stream",
     "text": [
      "training data preparation for band:13 is done\n",
      "\n",
      "Preparing validation data for band:13\n",
      "\n"
     ]
    },
    {
     "name": "stderr",
     "output_type": "stream",
     "text": [
      "100%|██████████| 893/893 [02:01<00:00,  7.37it/s]\n"
     ]
    },
    {
     "name": "stdout",
     "output_type": "stream",
     "text": [
      "Validation data preparation for band:13 is done\n",
      "\n",
      "Training model for band 13\n",
      "\n",
      "Band 13 Validation  pearsonr:42.0\n",
      "\n",
      "Testing data preparation for band:13\n",
      "\n"
     ]
    },
    {
     "name": "stderr",
     "output_type": "stream",
     "text": [
      "100%|██████████| 1489/1489 [03:32<00:00,  7.00it/s]\n"
     ]
    },
    {
     "name": "stdout",
     "output_type": "stream",
     "text": [
      "Testing data preparation for band:13 is done\n",
      "\n",
      "Predict test data for band_13\n",
      "\n",
      "Test Prediction is done for band_13\n",
      "\n",
      "====================================================================================================\n",
      "Final submission files created\n"
     ]
    }
   ],
   "source": [
    "aod.train_model()"
   ]
  },
  {
   "cell_type": "markdown",
   "id": "651d4a3f",
   "metadata": {
    "papermill": {
     "duration": 6.354609,
     "end_time": "2024-10-31T04:25:46.621162",
     "exception": false,
     "start_time": "2024-10-31T04:25:40.266553",
     "status": "completed"
    },
    "tags": []
   },
   "source": [
    "### Band wise validation score"
   ]
  },
  {
   "cell_type": "code",
   "execution_count": 14,
   "id": "22fcc8b9",
   "metadata": {
    "execution": {
     "iopub.execute_input": "2024-10-31T04:25:59.145226Z",
     "iopub.status.busy": "2024-10-31T04:25:59.144438Z",
     "iopub.status.idle": "2024-10-31T04:25:59.165047Z",
     "shell.execute_reply": "2024-10-31T04:25:59.164171Z"
    },
    "papermill": {
     "duration": 6.307588,
     "end_time": "2024-10-31T04:25:59.167038",
     "exception": false,
     "start_time": "2024-10-31T04:25:52.859450",
     "status": "completed"
    },
    "tags": []
   },
   "outputs": [
    {
     "data": {
      "text/html": [
       "<div>\n",
       "<style scoped>\n",
       "    .dataframe tbody tr th:only-of-type {\n",
       "        vertical-align: middle;\n",
       "    }\n",
       "\n",
       "    .dataframe tbody tr th {\n",
       "        vertical-align: top;\n",
       "    }\n",
       "\n",
       "    .dataframe thead th {\n",
       "        text-align: right;\n",
       "    }\n",
       "</style>\n",
       "<table border=\"1\" class=\"dataframe\">\n",
       "  <thead>\n",
       "    <tr style=\"text-align: right;\">\n",
       "      <th></th>\n",
       "      <th>Band</th>\n",
       "      <th>Validation_score</th>\n",
       "    </tr>\n",
       "  </thead>\n",
       "  <tbody>\n",
       "    <tr>\n",
       "      <th>5</th>\n",
       "      <td>band_6</td>\n",
       "      <td>82.0</td>\n",
       "    </tr>\n",
       "    <tr>\n",
       "      <th>1</th>\n",
       "      <td>band_2</td>\n",
       "      <td>81.0</td>\n",
       "    </tr>\n",
       "    <tr>\n",
       "      <th>4</th>\n",
       "      <td>band_5</td>\n",
       "      <td>79.0</td>\n",
       "    </tr>\n",
       "    <tr>\n",
       "      <th>6</th>\n",
       "      <td>band_7</td>\n",
       "      <td>78.0</td>\n",
       "    </tr>\n",
       "    <tr>\n",
       "      <th>8</th>\n",
       "      <td>band_9</td>\n",
       "      <td>77.0</td>\n",
       "    </tr>\n",
       "    <tr>\n",
       "      <th>0</th>\n",
       "      <td>band_1</td>\n",
       "      <td>75.0</td>\n",
       "    </tr>\n",
       "    <tr>\n",
       "      <th>2</th>\n",
       "      <td>band_3</td>\n",
       "      <td>75.0</td>\n",
       "    </tr>\n",
       "    <tr>\n",
       "      <th>7</th>\n",
       "      <td>band_8</td>\n",
       "      <td>74.0</td>\n",
       "    </tr>\n",
       "    <tr>\n",
       "      <th>3</th>\n",
       "      <td>band_4</td>\n",
       "      <td>67.0</td>\n",
       "    </tr>\n",
       "    <tr>\n",
       "      <th>11</th>\n",
       "      <td>band_12</td>\n",
       "      <td>62.0</td>\n",
       "    </tr>\n",
       "    <tr>\n",
       "      <th>9</th>\n",
       "      <td>band_10</td>\n",
       "      <td>58.0</td>\n",
       "    </tr>\n",
       "    <tr>\n",
       "      <th>12</th>\n",
       "      <td>band_13</td>\n",
       "      <td>42.0</td>\n",
       "    </tr>\n",
       "    <tr>\n",
       "      <th>10</th>\n",
       "      <td>band_11</td>\n",
       "      <td>3.0</td>\n",
       "    </tr>\n",
       "  </tbody>\n",
       "</table>\n",
       "</div>"
      ],
      "text/plain": [
       "       Band  Validation_score\n",
       "5    band_6              82.0\n",
       "1    band_2              81.0\n",
       "4    band_5              79.0\n",
       "6    band_7              78.0\n",
       "8    band_9              77.0\n",
       "0    band_1              75.0\n",
       "2    band_3              75.0\n",
       "7    band_8              74.0\n",
       "3    band_4              67.0\n",
       "11  band_12              62.0\n",
       "9   band_10              58.0\n",
       "12  band_13              42.0\n",
       "10  band_11               3.0"
      ]
     },
     "execution_count": 14,
     "metadata": {},
     "output_type": "execute_result"
    }
   ],
   "source": [
    " pd.DataFrame(list(aod.score.items()),columns=['Band', 'Validation_score']).sort_values(\"Validation_score\",ascending=False)"
   ]
  },
  {
   "cell_type": "code",
   "execution_count": 15,
   "id": "bb08c923",
   "metadata": {
    "execution": {
     "iopub.execute_input": "2024-10-31T04:26:11.583669Z",
     "iopub.status.busy": "2024-10-31T04:26:11.583272Z",
     "iopub.status.idle": "2024-10-31T04:26:11.963388Z",
     "shell.execute_reply": "2024-10-31T04:26:11.962465Z"
    },
    "papermill": {
     "duration": 6.597273,
     "end_time": "2024-10-31T04:26:11.965372",
     "exception": false,
     "start_time": "2024-10-31T04:26:05.368099",
     "status": "completed"
    },
    "tags": []
   },
   "outputs": [
    {
     "data": {
      "image/png": "[encoded data removed]",
      "text/plain": [
       "<Figure size 1200x600 with 1 Axes>"
      ]
     },
     "metadata": {},
     "output_type": "display_data"
    }
   ],
   "source": [
    "_=plt.figure(figsize=(12,6))\n",
    "sns.barplot(data = pd.DataFrame(list(aod.score.items()),columns=['Band', 'Validation_score']).sort_values(\"Validation_score\",ascending=False),\n",
    "            x='Band', y='Validation_score');"
   ]
  },
  {
   "cell_type": "markdown",
   "id": "556a3f44",
   "metadata": {
    "papermill": {
     "duration": 6.256743,
     "end_time": "2024-10-31T04:26:24.509406",
     "exception": false,
     "start_time": "2024-10-31T04:26:18.252663",
     "status": "completed"
    },
    "tags": []
   },
   "source": [
    "### Actual vs  Prediction"
   ]
  },
  {
   "cell_type": "code",
   "execution_count": 16,
   "id": "a6e28967",
   "metadata": {
    "execution": {
     "iopub.execute_input": "2024-10-31T04:26:37.030727Z",
     "iopub.status.busy": "2024-10-31T04:26:37.029877Z",
     "iopub.status.idle": "2024-10-31T04:26:43.441823Z",
     "shell.execute_reply": "2024-10-31T04:26:43.440929Z"
    },
    "papermill": {
     "duration": 12.748038,
     "end_time": "2024-10-31T04:26:43.446329",
     "exception": false,
     "start_time": "2024-10-31T04:26:30.698291",
     "status": "completed"
    },
    "tags": []
   },
   "outputs": [
    {
     "data": {
      "image/png": "[encoded data removed]",
      "text/plain": [
       "<Figure size 2000x2000 with 13 Axes>"
      ]
     },
     "metadata": {},
     "output_type": "display_data"
    }
   ],
   "source": [
    "fig=plt.subplots(figsize=(20, 20))\n",
    "for i,band  in enumerate(aod.val_pred_results.keys()):    \n",
    "    _=plt.subplot(5,3,i+1,)\n",
    "    _=sns.kdeplot(X_test['label'], label = 'Actual')\n",
    "    _=sns.kdeplot(aod.val_pred_results[band],label='Predicted')\n",
    "    _=plt.legend()\n",
    "    _=plt.title(f\"\\n{band.capitalize()} Actual vs Prediction\",fontsize=15)\n",
    "    _=plt.xlabel(\"\")\n",
    "   # _=plt.xticks(fontsize=15)\n",
    "    _=plt.tight_layout()\n",
    "plt.show()"
   ]
  }
 ],
 "metadata": {
  "kaggle": {
   "accelerator": "gpu",
   "dataSources": [
    {
     "datasetId": 5641307,
     "sourceId": 9314413,
     "sourceType": "datasetVersion"
    }
   ],
   "dockerImageVersionId": 30787,
   "isGpuEnabled": true,
   "isInternetEnabled": true,
   "language": "python",
   "sourceType": "notebook"
  },
  "kernelspec": {
   "display_name": "Python 3",
   "language": "python",
   "name": "python3"
  },
  "language_info": {
   "codemirror_mode": {
    "name": "ipython",
    "version": 3
   },
   "file_extension": ".py",
   "mimetype": "text/x-python",
   "name": "python",
   "nbconvert_exporter": "python",
   "pygments_lexer": "ipython3",
   "version": "3.10.14"
  },
  "papermill": {
   "default_parameters": {},
   "duration": 11239.101614,
   "end_time": "2024-10-31T04:26:52.114792",
   "environment_variables": {},
   "exception": null,
   "input_path": "__notebook__.ipynb",
   "output_path": "__notebook__.ipynb",
   "parameters": {},
   "start_time": "2024-10-31T01:19:33.013178",
   "version": "2.6.0"
  },
  "widgets": {
   "application/vnd.jupyter.widget-state+json": {
    "state": {
     "364ba5845d7941638b29c4d1cda32f9c": {
      "model_module": "@jupyter-widgets/controls",
      "model_module_version": "1.5.0",
      "model_name": "DescriptionStyleModel",
      "state": {
       "_model_module": "@jupyter-widgets/controls",
       "_model_module_version": "1.5.0",
       "_model_name": "DescriptionStyleModel",
       "_view_count": null,
       "_view_module": "@jupyter-widgets/base",
       "_view_module_version": "1.2.0",
       "_view_name": "StyleView",
       "description_width": ""
      }
     },
     "435b898de3634d0fbd290517eab0c371": {
      "model_module": "@jupyter-widgets/controls",
      "model_module_version": "1.5.0",
      "model_name": "FloatProgressModel",
      "state": {
       "_dom_classes": [],
       "_model_module": "@jupyter-widgets/controls",
       "_model_module_version": "1.5.0",
       "_model_name": "FloatProgressModel",
       "_view_count": null,
       "_view_module": "@jupyter-widgets/controls",
       "_view_module_version": "1.5.0",
       "_view_name": "ProgressView",
       "bar_style": "success",
       "description": "",
       "description_tooltip": null,
       "layout": "IPY_MODEL_6cc916a9741b41adaf49e1d7132209e7",
       "max": 21355344.0,
       "min": 0.0,
       "orientation": "horizontal",
       "style": "IPY_MODEL_8826747ab56b4cf78b52605da021081b",
       "value": 21355344.0
      }
     },
     "4ab94115609043b6862a1d5135917d8a": {
      "model_module": "@jupyter-widgets/controls",
      "model_module_version": "1.5.0",
      "model_name": "DescriptionStyleModel",
      "state": {
       "_model_module": "@jupyter-widgets/controls",
       "_model_module_version": "1.5.0",
       "_model_name": "DescriptionStyleModel",
       "_view_count": null,
       "_view_module": "@jupyter-widgets/base",
       "_view_module_version": "1.2.0",
       "_view_name": "StyleView",
       "description_width": ""
      }
     },
     "674f5942d6e64da5b03e83737b8bada1": {
      "model_module": "@jupyter-widgets/controls",
      "model_module_version": "1.5.0",
      "model_name": "HTMLModel",
      "state": {
       "_dom_classes": [],
       "_model_module": "@jupyter-widgets/controls",
       "_model_module_version": "1.5.0",
       "_model_name": "HTMLModel",
       "_view_count": null,
       "_view_module": "@jupyter-widgets/controls",
       "_view_module_version": "1.5.0",
       "_view_name": "HTMLView",
       "description": "",
       "description_tooltip": null,
       "layout": "IPY_MODEL_c7aa9050d2d84b5c89fe3a537aa00376",
       "placeholder": "​",
       "style": "IPY_MODEL_364ba5845d7941638b29c4d1cda32f9c",
       "value": " 21.4M/21.4M [00:00&lt;00:00, 55.9MB/s]"
      }
     },
     "6cc916a9741b41adaf49e1d7132209e7": {
      "model_module": "@jupyter-widgets/base",
      "model_module_version": "1.2.0",
      "model_name": "LayoutModel",
      "state": {
       "_model_module": "@jupyter-widgets/base",
       "_model_module_version": "1.2.0",
       "_model_name": "LayoutModel",
       "_view_count": null,
       "_view_module": "@jupyter-widgets/base",
       "_view_module_version": "1.2.0",
       "_view_name": "LayoutView",
       "align_content": null,
       "align_items": null,
       "align_self": null,
       "border": null,
       "bottom": null,
       "display": null,
       "flex": null,
       "flex_flow": null,
       "grid_area": null,
       "grid_auto_columns": null,
       "grid_auto_flow": null,
       "grid_auto_rows": null,
       "grid_column": null,
       "grid_gap": null,
       "grid_row": null,
       "grid_template_areas": null,
       "grid_template_columns": null,
       "grid_template_rows": null,
       "height": null,
       "justify_content": null,
       "justify_items": null,
       "left": null,
       "margin": null,
       "max_height": null,
       "max_width": null,
       "min_height": null,
       "min_width": null,
       "object_fit": null,
       "object_position": null,
       "order": null,
       "overflow": null,
       "overflow_x": null,
       "overflow_y": null,
       "padding": null,
       "right": null,
       "top": null,
       "visibility": null,
       "width": null
      }
     },
     "7d6decdd951c4e2cb09f0917f6274870": {
      "model_module": "@jupyter-widgets/controls",
      "model_module_version": "1.5.0",
      "model_name": "HTMLModel",
      "state": {
       "_dom_classes": [],
       "_model_module": "@jupyter-widgets/controls",
       "_model_module_version": "1.5.0",
       "_model_name": "HTMLModel",
       "_view_count": null,
       "_view_module": "@jupyter-widgets/controls",
       "_view_module_version": "1.5.0",
       "_view_name": "HTMLView",
       "description": "",
       "description_tooltip": null,
       "layout": "IPY_MODEL_f9a4e4206a394adba89ff1dca41bb8b3",
       "placeholder": "​",
       "style": "IPY_MODEL_4ab94115609043b6862a1d5135917d8a",
       "value": "model.safetensors: 100%"
      }
     },
     "8826747ab56b4cf78b52605da021081b": {
      "model_module": "@jupyter-widgets/controls",
      "model_module_version": "1.5.0",
      "model_name": "ProgressStyleModel",
      "state": {
       "_model_module": "@jupyter-widgets/controls",
       "_model_module_version": "1.5.0",
       "_model_name": "ProgressStyleModel",
       "_view_count": null,
       "_view_module": "@jupyter-widgets/base",
       "_view_module_version": "1.2.0",
       "_view_name": "StyleView",
       "bar_color": null,
       "description_width": ""
      }
     },
     "904a4b18472a4645ae1d960917b509e0": {
      "model_module": "@jupyter-widgets/controls",
      "model_module_version": "1.5.0",
      "model_name": "HBoxModel",
      "state": {
       "_dom_classes": [],
       "_model_module": "@jupyter-widgets/controls",
       "_model_module_version": "1.5.0",
       "_model_name": "HBoxModel",
       "_view_count": null,
       "_view_module": "@jupyter-widgets/controls",
       "_view_module_version": "1.5.0",
       "_view_name": "HBoxView",
       "box_style": "",
       "children": [
        "IPY_MODEL_7d6decdd951c4e2cb09f0917f6274870",
        "IPY_MODEL_435b898de3634d0fbd290517eab0c371",
        "IPY_MODEL_674f5942d6e64da5b03e83737b8bada1"
       ],
       "layout": "IPY_MODEL_f3dc23ec7dab48baafd69a0005f2b589"
      }
     },
     "c7aa9050d2d84b5c89fe3a537aa00376": {
      "model_module": "@jupyter-widgets/base",
      "model_module_version": "1.2.0",
      "model_name": "LayoutModel",
      "state": {
       "_model_module": "@jupyter-widgets/base",
       "_model_module_version": "1.2.0",
       "_model_name": "LayoutModel",
       "_view_count": null,
       "_view_module": "@jupyter-widgets/base",
       "_view_module_version": "1.2.0",
       "_view_name": "LayoutView",
       "align_content": null,
       "align_items": null,
       "align_self": null,
       "border": null,
       "bottom": null,
       "display": null,
       "flex": null,
       "flex_flow": null,
       "grid_area": null,
       "grid_auto_columns": null,
       "grid_auto_flow": null,
       "grid_auto_rows": null,
       "grid_column": null,
       "grid_gap": null,
       "grid_row": null,
       "grid_template_areas": null,
       "grid_template_columns": null,
       "grid_template_rows": null,
       "height": null,
       "justify_content": null,
       "justify_items": null,
       "left": null,
       "margin": null,
       "max_height": null,
       "max_width": null,
       "min_height": null,
       "min_width": null,
       "object_fit": null,
       "object_position": null,
       "order": null,
       "overflow": null,
       "overflow_x": null,
       "overflow_y": null,
       "padding": null,
       "right": null,
       "top": null,
       "visibility": null,
       "width": null
      }
     },
     "f3dc23ec7dab48baafd69a0005f2b589": {
      "model_module": "@jupyter-widgets/base",
      "model_module_version": "1.2.0",
      "model_name": "LayoutModel",
      "state": {
       "_model_module": "@jupyter-widgets/base",
       "_model_module_version": "1.2.0",
       "_model_name": "LayoutModel",
       "_view_count": null,
       "_view_module": "@jupyter-widgets/base",
       "_view_module_version": "1.2.0",
       "_view_name": "LayoutView",
       "align_content": null,
       "align_items": null,
       "align_self": null,
       "border": null,
       "bottom": null,
       "display": null,
       "flex": null,
       "flex_flow": null,
       "grid_area": null,
       "grid_auto_columns": null,
       "grid_auto_flow": null,
       "grid_auto_rows": null,
       "grid_column": null,
       "grid_gap": null,
       "grid_row": null,
       "grid_template_areas": null,
       "grid_template_columns": null,
       "grid_template_rows": null,
       "height": null,
       "justify_content": null,
       "justify_items": null,
       "left": null,
       "margin": null,
       "max_height": null,
       "max_width": null,
       "min_height": null,
       "min_width": null,
       "object_fit": null,
       "object_position": null,
       "order": null,
       "overflow": null,
       "overflow_x": null,
       "overflow_y": null,
       "padding": null,
       "right": null,
       "top": null,
       "visibility": null,
       "width": null
      }
     },
     "f9a4e4206a394adba89ff1dca41bb8b3": {
      "model_module": "@jupyter-widgets/base",
      "model_module_version": "1.2.0",
      "model_name": "LayoutModel",
      "state": {
       "_model_module": "@jupyter-widgets/base",
       "_model_module_version": "1.2.0",
       "_model_name": "LayoutModel",
       "_view_count": null,
       "_view_module": "@jupyter-widgets/base",
       "_view_module_version": "1.2.0",
       "_view_name": "LayoutView",
       "align_content": null,
       "align_items": null,
       "align_self": null,
       "border": null,
       "bottom": null,
       "display": null,
       "flex": null,
       "flex_flow": null,
       "grid_area": null,
       "grid_auto_columns": null,
       "grid_auto_flow": null,
       "grid_auto_rows": null,
       "grid_column": null,
       "grid_gap": null,
       "grid_row": null,
       "grid_template_areas": null,
       "grid_template_columns": null,
       "grid_template_rows": null,
       "height": null,
       "justify_content": null,
       "justify_items": null,
       "left": null,
       "margin": null,
       "max_height": null,
       "max_width": null,
       "min_height": null,
       "min_width": null,
       "object_fit": null,
       "object_position": null,
       "order": null,
       "overflow": null,
       "overflow_x": null,
       "overflow_y": null,
       "padding": null,
       "right": null,
       "top": null,
       "visibility": null,
       "width": null
      }
     }
    },
    "version_major": 2,
    "version_minor": 0
   }
  }
 },
 "nbformat": 4,
 "nbformat_minor": 5
}
